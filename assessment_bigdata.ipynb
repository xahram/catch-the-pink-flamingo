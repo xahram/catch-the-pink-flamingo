{
  "cells": [
    {
      "cell_type": "markdown",
      "metadata": {
        "id": "view-in-github",
        "colab_type": "text"
      },
      "source": [
        "<a href=\"https://colab.research.google.com/github/xahram/catch_the_pink_flamingo/blob/main/assessment_bigdata.ipynb\" target=\"_parent\"><img src=\"https://colab.research.google.com/assets/colab-badge.svg\" alt=\"Open In Colab\"/></a>"
      ]
    },
    {
      "cell_type": "code",
      "execution_count": 5,
      "metadata": {
        "colab": {
          "base_uri": "https://localhost:8080/",
          "height": 60,
          "resources": {
            "http://localhost:8080/nbextensions/google.colab/files.js": {
              "data": "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",
              "ok": true,
              "headers": [
                [
                  "content-type",
                  "application/javascript"
                ]
              ],
              "status": 200,
              "status_text": "OK"
            }
          }
        },
        "id": "421CipvIe3uY",
        "outputId": "e0d71fc8-14d3-46e5-969b-b6a8c252a256"
      },
      "outputs": [
        {
          "output_type": "display_data",
          "data": {
            "text/plain": [
              "<IPython.core.display.HTML object>"
            ],
            "text/html": [
              "\n",
              "     <input type=\"file\" id=\"files-d0280f2d-0f89-42fa-9c9e-95b15d79c9be\" name=\"files[]\" multiple disabled\n",
              "        style=\"border:none\" />\n",
              "     <output id=\"result-d0280f2d-0f89-42fa-9c9e-95b15d79c9be\">\n",
              "      Upload widget is only available when the cell has been executed in the\n",
              "      current browser session. Please rerun this cell to enable.\n",
              "      </output>\n",
              "      <script src=\"/nbextensions/google.colab/files.js\"></script> "
            ]
          },
          "metadata": {}
        },
        {
          "output_type": "execute_result",
          "data": {
            "text/plain": [
              "'/usr/bin/python3'"
            ],
            "application/vnd.google.colaboratory.intrinsic+json": {
              "type": "string"
            }
          },
          "metadata": {},
          "execution_count": 5
        }
      ],
      "source": [
        "from google.colab import files\n",
        "uploaded = files.upload()\n",
        "\n",
        "\n",
        "import sys, os\n",
        "\n",
        "sys.path\n",
        "sys.executable\n",
        "\n",
        "\n",
        "\n"
      ]
    },
    {
      "cell_type": "code",
      "execution_count": 6,
      "metadata": {
        "colab": {
          "base_uri": "https://localhost:8080/"
        },
        "id": "kzS0wLo6kfok",
        "outputId": "6a9a8579-62be-481c-8e69-38194d641c09"
      },
      "outputs": [
        {
          "output_type": "stream",
          "name": "stdout",
          "text": [
            "Reading package lists... Done\n",
            "Building dependency tree       \n",
            "Reading state information... Done\n",
            "openjdk-8-jdk-headless is already the newest version (8u312-b07-0ubuntu1~18.04).\n",
            "The following packages were automatically installed and are no longer required:\n",
            "  libnvidia-common-460 nsight-compute-2020.2.0\n",
            "Use 'apt autoremove' to remove them.\n",
            "0 upgraded, 0 newly installed, 0 to remove and 42 not upgraded.\n"
          ]
        }
      ],
      "source": [
        "!apt-get install openjdk-8-jdk-headless"
      ]
    },
    {
      "cell_type": "code",
      "source": [
        ""
      ],
      "metadata": {
        "id": "PS6gt_dnoGHE"
      },
      "execution_count": 6,
      "outputs": []
    },
    {
      "cell_type": "code",
      "execution_count": 7,
      "metadata": {
        "colab": {
          "base_uri": "https://localhost:8080/"
        },
        "id": "dgr5gfcCl7aV",
        "outputId": "0c306c5e-b423-40ad-dd33-94af8b3f9faa"
      },
      "outputs": [
        {
          "output_type": "stream",
          "name": "stdout",
          "text": [
            "--2022-05-08 08:55:12--  https://archive.apache.org/dist/spark/spark-3.2.1/spark-3.2.1-bin-hadoop2.7.tgz\n",
            "Resolving archive.apache.org (archive.apache.org)... 138.201.131.134, 2a01:4f8:172:2ec5::2\n",
            "Connecting to archive.apache.org (archive.apache.org)|138.201.131.134|:443... connected.\n",
            "HTTP request sent, awaiting response... 200 OK\n",
            "Length: 272637746 (260M) [application/x-gzip]\n",
            "Saving to: ‘spark-3.2.1-bin-hadoop2.7.tgz’\n",
            "\n",
            "spark-3.2.1-bin-had 100%[===================>] 260.01M  28.2MB/s    in 10s     \n",
            "\n",
            "2022-05-08 08:55:22 (26.0 MB/s) - ‘spark-3.2.1-bin-hadoop2.7.tgz’ saved [272637746/272637746]\n",
            "\n"
          ]
        }
      ],
      "source": [
        "!wget https://archive.apache.org/dist/spark/spark-3.2.1/spark-3.2.1-bin-hadoop2.7.tgz"
      ]
    },
    {
      "cell_type": "code",
      "execution_count": 8,
      "metadata": {
        "id": "nCZQQe0Ell3u"
      },
      "outputs": [],
      "source": [
        "!tar xf /content/spark-3.2.1-bin-hadoop2.7.tgz"
      ]
    },
    {
      "cell_type": "code",
      "execution_count": 9,
      "metadata": {
        "id": "Hv1Jlxndmk6O"
      },
      "outputs": [],
      "source": [
        "!pip install -q findspark\n",
        "!pip install pyspark"
      ]
    },
    {
      "cell_type": "code",
      "execution_count": 10,
      "metadata": {
        "colab": {
          "base_uri": "https://localhost:8080/",
          "height": 36
        },
        "id": "1oP12N3xmp_s",
        "outputId": "071ea3e5-acc8-46f8-ab98-f42441342ba1"
      },
      "outputs": [
        {
          "output_type": "execute_result",
          "data": {
            "text/plain": [
              "'/content/spark-3.2.1-bin-hadoop2.7'"
            ],
            "application/vnd.google.colaboratory.intrinsic+json": {
              "type": "string"
            }
          },
          "metadata": {},
          "execution_count": 10
        }
      ],
      "source": [
        "import os\n",
        "\n",
        "os.environ[\"JAVA_HOME\"] =  \"/usr/lib/jvm/java-8-openjdk-amd64\"\n",
        "os.environ[\"SPARK_HOME\"] = \"/content/spark-3.2.1-bin-hadoop2.7\"\n",
        "\n",
        "\n",
        "import findspark\n",
        "\n",
        "findspark.init()\n",
        "findspark.find()\n"
      ]
    },
    {
      "cell_type": "code",
      "execution_count": 11,
      "metadata": {
        "id": "j2ApjVaeoJ2Z"
      },
      "outputs": [],
      "source": [
        "import pyspark\n",
        "\n",
        "\n",
        "sc = pyspark.SparkContext(master=\"local[*]\", appName=\"FirstExample\")\n",
        "\n",
        "\n"
      ]
    },
    {
      "cell_type": "code",
      "execution_count": 12,
      "metadata": {
        "id": "AE4QF-ydptxI"
      },
      "outputs": [],
      "source": [
        "sc.setLogLevel(\"ERROR\")"
      ]
    },
    {
      "cell_type": "code",
      "execution_count": 13,
      "metadata": {
        "id": "ep9QGsdlpxHQ"
      },
      "outputs": [],
      "source": [
        "from pyspark.sql import SparkSession\n",
        "\n",
        "spark = SparkSession.builder.master(\"local\").appName(\"assessment_bigdata\").config(\"spark.ui.port\", \"4050\").getOrCreate()"
      ]
    },
    {
      "cell_type": "code",
      "execution_count": 14,
      "metadata": {
        "colab": {
          "base_uri": "https://localhost:8080/",
          "height": 221
        },
        "id": "CFz-LYvZrb4V",
        "outputId": "866e2fca-6a47-46dd-c84e-422c26a0b286"
      },
      "outputs": [
        {
          "output_type": "execute_result",
          "data": {
            "text/plain": [
              "<pyspark.sql.session.SparkSession at 0x7f9c0eda48d0>"
            ],
            "text/html": [
              "\n",
              "            <div>\n",
              "                <p><b>SparkSession - in-memory</b></p>\n",
              "                \n",
              "        <div>\n",
              "            <p><b>SparkContext</b></p>\n",
              "\n",
              "            <p><a href=\"http://d0f3517f8eec:4040\">Spark UI</a></p>\n",
              "\n",
              "            <dl>\n",
              "              <dt>Version</dt>\n",
              "                <dd><code>v3.2.1</code></dd>\n",
              "              <dt>Master</dt>\n",
              "                <dd><code>local[*]</code></dd>\n",
              "              <dt>AppName</dt>\n",
              "                <dd><code>FirstExample</code></dd>\n",
              "            </dl>\n",
              "        </div>\n",
              "        \n",
              "            </div>\n",
              "        "
            ]
          },
          "metadata": {},
          "execution_count": 14
        }
      ],
      "source": [
        "spark"
      ]
    },
    {
      "cell_type": "code",
      "execution_count": 15,
      "metadata": {
        "colab": {
          "base_uri": "https://localhost:8080/"
        },
        "id": "3Z53zyZVrgw2",
        "outputId": "d0632136-d702-428b-a68e-9c2a782ee3cc"
      },
      "outputs": [
        {
          "output_type": "stream",
          "name": "stdout",
          "text": [
            "Archive:  /content/chat-data.zip\n",
            "   creating: chat-data/\n",
            "  inflating: chat-data/chat_join_team_chat.csv  \n",
            "  inflating: chat-data/chat_leave_team_chat.csv  \n",
            "  inflating: chat-data/chat_mention_team_chat.csv  \n",
            "  inflating: chat-data/chat_respond_team_chat.csv  \n",
            "Archive:  /content/combined-data.zip\n",
            "  inflating: combined-data.csv       \n"
          ]
        }
      ],
      "source": [
        "# UNZIPPING THE DATASET FILES\n",
        "\n",
        "\n",
        "!unzip \"/content/chat-data.zip\"\n",
        "!unzip \"/content/combined-data.zip\"\n",
        "\n"
      ]
    },
    {
      "cell_type": "code",
      "execution_count": 16,
      "metadata": {
        "id": "ZJ7sdD5JwppF"
      },
      "outputs": [],
      "source": [
        "\n",
        "buy_clicks_df = spark.read.csv(\"/content/flamingo-data/buy-clicks.csv\", header=True, inferSchema=True)"
      ]
    },
    {
      "cell_type": "code",
      "execution_count": 17,
      "metadata": {
        "id": "lldQMnrwxG6T",
        "colab": {
          "base_uri": "https://localhost:8080/"
        },
        "outputId": "c383ba8b-f43f-4ba0-c6f6-2eba2fcf0220"
      },
      "outputs": [
        {
          "output_type": "stream",
          "name": "stdout",
          "text": [
            "root\n",
            " |-- timestamp: string (nullable = true)\n",
            " |-- txId: integer (nullable = true)\n",
            " |-- userSessionId: integer (nullable = true)\n",
            " |-- team: integer (nullable = true)\n",
            " |-- userId: integer (nullable = true)\n",
            " |-- buyId: integer (nullable = true)\n",
            " |-- price: double (nullable = true)\n",
            "\n"
          ]
        }
      ],
      "source": [
        "buy_clicks_df.printSchema()"
      ]
    },
    {
      "cell_type": "code",
      "execution_count": 18,
      "metadata": {
        "id": "5Uzi72fXxbNL",
        "colab": {
          "base_uri": "https://localhost:8080/"
        },
        "outputId": "64514be7-ad8d-4954-a6fd-ba41effa5b0c"
      },
      "outputs": [
        {
          "output_type": "stream",
          "name": "stdout",
          "text": [
            "+-------------------+----+-------------+----+------+-----+-----+\n",
            "|          timestamp|txId|userSessionId|team|userId|buyId|price|\n",
            "+-------------------+----+-------------+----+------+-----+-----+\n",
            "|2016-05-26 15:36:54|6004|         5820|   9|  1300|    2|  3.0|\n",
            "|2016-05-26 15:36:54|6005|         5775|  35|   868|    4| 10.0|\n",
            "|2016-05-26 15:36:54|6006|         5679|  97|   819|    5| 20.0|\n",
            "|2016-05-26 16:36:54|6067|         5665|  18|   121|    2|  3.0|\n",
            "|2016-05-26 17:06:54|6093|         5709|  11|  2222|    5| 20.0|\n",
            "+-------------------+----+-------------+----+------+-----+-----+\n",
            "only showing top 5 rows\n",
            "\n"
          ]
        }
      ],
      "source": [
        "buy_clicks_df.show(5)"
      ]
    },
    {
      "cell_type": "code",
      "execution_count": 19,
      "metadata": {
        "id": "N3eGtYdryAaO",
        "colab": {
          "base_uri": "https://localhost:8080/",
          "height": 300
        },
        "outputId": "9da8d91e-0245-4ac1-e295-ea7789df9069"
      },
      "outputs": [
        {
          "output_type": "execute_result",
          "data": {
            "text/plain": [
              "                   0                   1                   2  \\\n",
              "summary        count                mean              stddev   \n",
              "timestamp       2947                None                None   \n",
              "txId            2947   25443.01085850017   9343.543792592367   \n",
              "userSessionId   2947   22884.75229046488    8669.35362676463   \n",
              "team            2947   70.31896844248388   40.27452540199273   \n",
              "userId          2947  1187.4591109602986   685.7038088341923   \n",
              "buyId           2947   2.530709195792331  1.7799870722907862   \n",
              "price           2947   7.263997285374957   7.076313004712134   \n",
              "\n",
              "                                 3                    4  \n",
              "summary                        min                  max  \n",
              "timestamp      2016-05-26 15:36:54  2016-06-16 10:36:54  \n",
              "txId                          6004                39842  \n",
              "userSessionId                 5652                39275  \n",
              "team                             2                  178  \n",
              "userId                           1                 2387  \n",
              "buyId                            0                    5  \n",
              "price                          1.0                 20.0  "
            ],
            "text/html": [
              "\n",
              "  <div id=\"df-63f9227f-03f7-4847-a7c5-da1535e5ba74\">\n",
              "    <div class=\"colab-df-container\">\n",
              "      <div>\n",
              "<style scoped>\n",
              "    .dataframe tbody tr th:only-of-type {\n",
              "        vertical-align: middle;\n",
              "    }\n",
              "\n",
              "    .dataframe tbody tr th {\n",
              "        vertical-align: top;\n",
              "    }\n",
              "\n",
              "    .dataframe thead th {\n",
              "        text-align: right;\n",
              "    }\n",
              "</style>\n",
              "<table border=\"1\" class=\"dataframe\">\n",
              "  <thead>\n",
              "    <tr style=\"text-align: right;\">\n",
              "      <th></th>\n",
              "      <th>0</th>\n",
              "      <th>1</th>\n",
              "      <th>2</th>\n",
              "      <th>3</th>\n",
              "      <th>4</th>\n",
              "    </tr>\n",
              "  </thead>\n",
              "  <tbody>\n",
              "    <tr>\n",
              "      <th>summary</th>\n",
              "      <td>count</td>\n",
              "      <td>mean</td>\n",
              "      <td>stddev</td>\n",
              "      <td>min</td>\n",
              "      <td>max</td>\n",
              "    </tr>\n",
              "    <tr>\n",
              "      <th>timestamp</th>\n",
              "      <td>2947</td>\n",
              "      <td>None</td>\n",
              "      <td>None</td>\n",
              "      <td>2016-05-26 15:36:54</td>\n",
              "      <td>2016-06-16 10:36:54</td>\n",
              "    </tr>\n",
              "    <tr>\n",
              "      <th>txId</th>\n",
              "      <td>2947</td>\n",
              "      <td>25443.01085850017</td>\n",
              "      <td>9343.543792592367</td>\n",
              "      <td>6004</td>\n",
              "      <td>39842</td>\n",
              "    </tr>\n",
              "    <tr>\n",
              "      <th>userSessionId</th>\n",
              "      <td>2947</td>\n",
              "      <td>22884.75229046488</td>\n",
              "      <td>8669.35362676463</td>\n",
              "      <td>5652</td>\n",
              "      <td>39275</td>\n",
              "    </tr>\n",
              "    <tr>\n",
              "      <th>team</th>\n",
              "      <td>2947</td>\n",
              "      <td>70.31896844248388</td>\n",
              "      <td>40.27452540199273</td>\n",
              "      <td>2</td>\n",
              "      <td>178</td>\n",
              "    </tr>\n",
              "    <tr>\n",
              "      <th>userId</th>\n",
              "      <td>2947</td>\n",
              "      <td>1187.4591109602986</td>\n",
              "      <td>685.7038088341923</td>\n",
              "      <td>1</td>\n",
              "      <td>2387</td>\n",
              "    </tr>\n",
              "    <tr>\n",
              "      <th>buyId</th>\n",
              "      <td>2947</td>\n",
              "      <td>2.530709195792331</td>\n",
              "      <td>1.7799870722907862</td>\n",
              "      <td>0</td>\n",
              "      <td>5</td>\n",
              "    </tr>\n",
              "    <tr>\n",
              "      <th>price</th>\n",
              "      <td>2947</td>\n",
              "      <td>7.263997285374957</td>\n",
              "      <td>7.076313004712134</td>\n",
              "      <td>1.0</td>\n",
              "      <td>20.0</td>\n",
              "    </tr>\n",
              "  </tbody>\n",
              "</table>\n",
              "</div>\n",
              "      <button class=\"colab-df-convert\" onclick=\"convertToInteractive('df-63f9227f-03f7-4847-a7c5-da1535e5ba74')\"\n",
              "              title=\"Convert this dataframe to an interactive table.\"\n",
              "              style=\"display:none;\">\n",
              "        \n",
              "  <svg xmlns=\"http://www.w3.org/2000/svg\" height=\"24px\"viewBox=\"0 0 24 24\"\n",
              "       width=\"24px\">\n",
              "    <path d=\"M0 0h24v24H0V0z\" fill=\"none\"/>\n",
              "    <path d=\"M18.56 5.44l.94 2.06.94-2.06 2.06-.94-2.06-.94-.94-2.06-.94 2.06-2.06.94zm-11 1L8.5 8.5l.94-2.06 2.06-.94-2.06-.94L8.5 2.5l-.94 2.06-2.06.94zm10 10l.94 2.06.94-2.06 2.06-.94-2.06-.94-.94-2.06-.94 2.06-2.06.94z\"/><path d=\"M17.41 7.96l-1.37-1.37c-.4-.4-.92-.59-1.43-.59-.52 0-1.04.2-1.43.59L10.3 9.45l-7.72 7.72c-.78.78-.78 2.05 0 2.83L4 21.41c.39.39.9.59 1.41.59.51 0 1.02-.2 1.41-.59l7.78-7.78 2.81-2.81c.8-.78.8-2.07 0-2.86zM5.41 20L4 18.59l7.72-7.72 1.47 1.35L5.41 20z\"/>\n",
              "  </svg>\n",
              "      </button>\n",
              "      \n",
              "  <style>\n",
              "    .colab-df-container {\n",
              "      display:flex;\n",
              "      flex-wrap:wrap;\n",
              "      gap: 12px;\n",
              "    }\n",
              "\n",
              "    .colab-df-convert {\n",
              "      background-color: #E8F0FE;\n",
              "      border: none;\n",
              "      border-radius: 50%;\n",
              "      cursor: pointer;\n",
              "      display: none;\n",
              "      fill: #1967D2;\n",
              "      height: 32px;\n",
              "      padding: 0 0 0 0;\n",
              "      width: 32px;\n",
              "    }\n",
              "\n",
              "    .colab-df-convert:hover {\n",
              "      background-color: #E2EBFA;\n",
              "      box-shadow: 0px 1px 2px rgba(60, 64, 67, 0.3), 0px 1px 3px 1px rgba(60, 64, 67, 0.15);\n",
              "      fill: #174EA6;\n",
              "    }\n",
              "\n",
              "    [theme=dark] .colab-df-convert {\n",
              "      background-color: #3B4455;\n",
              "      fill: #D2E3FC;\n",
              "    }\n",
              "\n",
              "    [theme=dark] .colab-df-convert:hover {\n",
              "      background-color: #434B5C;\n",
              "      box-shadow: 0px 1px 3px 1px rgba(0, 0, 0, 0.15);\n",
              "      filter: drop-shadow(0px 1px 2px rgba(0, 0, 0, 0.3));\n",
              "      fill: #FFFFFF;\n",
              "    }\n",
              "  </style>\n",
              "\n",
              "      <script>\n",
              "        const buttonEl =\n",
              "          document.querySelector('#df-63f9227f-03f7-4847-a7c5-da1535e5ba74 button.colab-df-convert');\n",
              "        buttonEl.style.display =\n",
              "          google.colab.kernel.accessAllowed ? 'block' : 'none';\n",
              "\n",
              "        async function convertToInteractive(key) {\n",
              "          const element = document.querySelector('#df-63f9227f-03f7-4847-a7c5-da1535e5ba74');\n",
              "          const dataTable =\n",
              "            await google.colab.kernel.invokeFunction('convertToInteractive',\n",
              "                                                     [key], {});\n",
              "          if (!dataTable) return;\n",
              "\n",
              "          const docLinkHtml = 'Like what you see? Visit the ' +\n",
              "            '<a target=\"_blank\" href=https://colab.research.google.com/notebooks/data_table.ipynb>data table notebook</a>'\n",
              "            + ' to learn more about interactive tables.';\n",
              "          element.innerHTML = '';\n",
              "          dataTable['output_type'] = 'display_data';\n",
              "          await google.colab.output.renderOutput(dataTable, element);\n",
              "          const docLink = document.createElement('div');\n",
              "          docLink.innerHTML = docLinkHtml;\n",
              "          element.appendChild(docLink);\n",
              "        }\n",
              "      </script>\n",
              "    </div>\n",
              "  </div>\n",
              "  "
            ]
          },
          "metadata": {},
          "execution_count": 19
        }
      ],
      "source": [
        "buy_clicks_df.describe().toPandas().transpose()"
      ]
    },
    {
      "cell_type": "code",
      "execution_count": 20,
      "metadata": {
        "id": "iqCVPh6bxfHm",
        "colab": {
          "base_uri": "https://localhost:8080/"
        },
        "outputId": "5a9243a1-6905-4454-f546-c1608e0c051b"
      },
      "outputs": [
        {
          "output_type": "stream",
          "name": "stdout",
          "text": [
            "+-------------------+------+-----------+--------+----------+-------+\n",
            "|          timestamp|userId|       nick| twitter|       dob|country|\n",
            "+-------------------+------+-----------+--------+----------+-------+\n",
            "|2012-06-19 14:53:41|   442|   pcjIOBKW|@SZhyOHv|1994-07-20|     BA|\n",
            "|2012-06-19 19:29:01|   949|    vAOfUkf|  @nkkNo|1971-04-22|     HU|\n",
            "|2012-06-20 19:34:59|  1654|     qOOXSQ|  @SwOlw|1970-04-19|     IS|\n",
            "|2012-06-21 01:18:29|  1586|    px4gW51|@IrCHTnE|1965-11-23|     AM|\n",
            "|2012-06-21 15:35:00|   599|9gkfwRC73Uc| @VJj0Az|1994-08-23|     CC|\n",
            "+-------------------+------+-----------+--------+----------+-------+\n",
            "only showing top 5 rows\n",
            "\n"
          ]
        }
      ],
      "source": [
        "############################### EXPLORATORY DATA ANALYSIS\n",
        "\n",
        "users_df = spark.read.csv(\"/content/flamingo-data/users.csv\", header=True, inferSchema=True)\n",
        "team_df = spark.read.csv(\"/content/flamingo-data/team.csv\", header=True, inferSchema=True)\n",
        "adclicks_df = spark.read.csv(\"/content/flamingo-data/ad-clicks.csv\", header=True, inferSchema=True)\n",
        "buyclicks_df = spark.read.csv(\"/content/flamingo-data/buy-clicks.csv\", header=True, inferSchema=True)\n",
        "\n",
        "users_df.show(5)\n",
        "\n",
        "\n",
        "\n"
      ]
    },
    {
      "cell_type": "code",
      "execution_count": 20,
      "metadata": {
        "id": "kyvvrxjkg4Yb"
      },
      "outputs": [],
      "source": [
        ""
      ]
    },
    {
      "cell_type": "code",
      "execution_count": 21,
      "metadata": {
        "id": "2C9vZfLd03N5",
        "colab": {
          "base_uri": "https://localhost:8080/"
        },
        "outputId": "de456f14-0de8-4021-8911-97ff2e204cf2"
      },
      "outputs": [
        {
          "output_type": "stream",
          "name": "stdout",
          "text": [
            "+-------------------+------+-----------+--------+----------+-------+---+\n",
            "|          timestamp|userId|       nick| twitter|       dob|country|age|\n",
            "+-------------------+------+-----------+--------+----------+-------+---+\n",
            "|2012-06-19 14:53:41|   442|   pcjIOBKW|@SZhyOHv|1994-07-20|     BA| 27|\n",
            "|2012-06-19 19:29:01|   949|    vAOfUkf|  @nkkNo|1971-04-22|     HU| 51|\n",
            "|2012-06-20 19:34:59|  1654|     qOOXSQ|  @SwOlw|1970-04-19|     IS| 52|\n",
            "|2012-06-21 01:18:29|  1586|    px4gW51|@IrCHTnE|1965-11-23|     AM| 56|\n",
            "|2012-06-21 15:35:00|   599|9gkfwRC73Uc| @VJj0Az|1994-08-23|     CC| 27|\n",
            "+-------------------+------+-----------+--------+----------+-------+---+\n",
            "only showing top 5 rows\n",
            "\n"
          ]
        }
      ],
      "source": [
        "###### CONVERT DOB TO AGE\n",
        "\n",
        "from pyspark.sql import functions as f\n",
        "\n",
        "\n",
        "\n",
        "# Resource for below Code : https://stackoverflow.com/questions/62148704/date-difference-in-years-in-pyspark-dataframe\n",
        "\n",
        "users_with_age_df = users_df.withColumn(\"age\",   (f.months_between(f.current_date(), f.col('dob')) / 12).cast('int'))\n",
        "\n",
        "users_with_age_df.show(5)\n",
        "\n"
      ]
    },
    {
      "cell_type": "code",
      "execution_count": 66,
      "metadata": {
        "id": "57x0IO3W2xSX",
        "colab": {
          "base_uri": "https://localhost:8080/"
        },
        "outputId": "7a3c1cba-7740-4aa5-a19f-b0a46e8e0ec9"
      },
      "outputs": [
        {
          "output_type": "stream",
          "name": "stdout",
          "text": [
            "+-------------------+------+-----------+----------+----------+-------+---+\n",
            "|          timestamp|userId|       nick|   twitter|       dob|country|age|\n",
            "+-------------------+------+-----------+----------+----------+-------+---+\n",
            "|2012-06-19 14:53:41|   442|   pcjIOBKW|  @SZhyOHv|1994-07-20|     BA| 27|\n",
            "|2012-06-19 19:29:01|   949|    vAOfUkf|    @nkkNo|1971-04-22|     HU| 51|\n",
            "|2012-06-20 19:34:59|  1654|     qOOXSQ|    @SwOlw|1970-04-19|     IS| 52|\n",
            "|2012-06-21 01:18:29|  1586|    px4gW51|  @IrCHTnE|1965-11-23|     AM| 56|\n",
            "|2012-06-21 15:35:00|   599|9gkfwRC73Uc|   @VJj0Az|1994-08-23|     CC| 27|\n",
            "|2012-06-22 11:36:19|   952| BRbb3VOTti|   @b4OK6K|1986-09-11|     MH| 35|\n",
            "|2012-06-23 08:11:18|  1056|    fGCIAtI| @IgDsdWdU|1991-11-28|     SM| 30|\n",
            "|2012-06-23 10:54:19|    91|tpDfgi3S0N9|   @LvTHGO|1977-07-03|     BZ| 44|\n",
            "|2012-06-23 14:59:26|   809| LkNRpRW6Ez|@ROrRkXwdh|1951-09-25|     PF| 70|\n",
            "|2012-06-23 17:40:35|    75|     fNWewX|   @OXqLyv|1979-11-12|     JO| 42|\n",
            "|2012-06-23 17:57:05|  2224|   rvXvUU9J|  @YexGCPm|1996-08-27|     GW| 25|\n",
            "|2012-06-24 05:29:24|   361|    Pk8oT6o|    @9YksF|1980-10-18|     CK| 41|\n",
            "|2012-06-24 23:33:59|   584|TBRJ3YueQCa|    @QsYLb|1957-02-17|     MD| 65|\n",
            "|2012-06-25 01:48:50|   295|zBxoWozeDlB| @An4tm5np|1977-03-02|     HK| 45|\n",
            "|2012-06-25 02:01:25|  1493|     GnvF8P|  @KnN5TLT|1979-10-05|     QA| 42|\n",
            "|2012-06-25 06:38:10|  1605|  m7eHxdgoz| @tcfAzJ3m|1981-10-23|     ZA| 40|\n",
            "|2012-06-25 15:04:21|   848|  ZWIRmprJd| @qrP2pQcE|1989-06-20|     SE| 32|\n",
            "|2012-06-25 16:53:28|   962|  19aggoZfQ|  @u5Smf32|1949-08-12|     MM| 72|\n",
            "|2012-06-26 15:12:33|  2034| olBz6o3Ulg| @lxLPvLKK|1983-12-04|     FO| 38|\n",
            "|2012-06-26 22:42:21|   379|  R1Mk1AVrv|    @UGHdE|1980-05-03|     DJ| 42|\n",
            "+-------------------+------+-----------+----------+----------+-------+---+\n",
            "only showing top 20 rows\n",
            "\n"
          ]
        }
      ],
      "source": [
        "# list(users_with_age_df.toPandas()[\"age\"].values)\n",
        "users_with_age_df.show()"
      ]
    },
    {
      "cell_type": "code",
      "execution_count": 23,
      "metadata": {
        "id": "3L6sgBKE5NLB",
        "colab": {
          "base_uri": "https://localhost:8080/",
          "height": 81
        },
        "outputId": "167c5f6c-1f1e-4e2b-820d-eac54900a899"
      },
      "outputs": [
        {
          "output_type": "execute_result",
          "data": {
            "text/plain": [
              "      count       mean        std   min   25%   50%   75%   max\n",
              "age  2393.0  45.139156  14.068018  23.0  33.0  43.0  56.0  75.0"
            ],
            "text/html": [
              "\n",
              "  <div id=\"df-74b1f008-67d0-4146-bf3f-1563dbd923c7\">\n",
              "    <div class=\"colab-df-container\">\n",
              "      <div>\n",
              "<style scoped>\n",
              "    .dataframe tbody tr th:only-of-type {\n",
              "        vertical-align: middle;\n",
              "    }\n",
              "\n",
              "    .dataframe tbody tr th {\n",
              "        vertical-align: top;\n",
              "    }\n",
              "\n",
              "    .dataframe thead th {\n",
              "        text-align: right;\n",
              "    }\n",
              "</style>\n",
              "<table border=\"1\" class=\"dataframe\">\n",
              "  <thead>\n",
              "    <tr style=\"text-align: right;\">\n",
              "      <th></th>\n",
              "      <th>count</th>\n",
              "      <th>mean</th>\n",
              "      <th>std</th>\n",
              "      <th>min</th>\n",
              "      <th>25%</th>\n",
              "      <th>50%</th>\n",
              "      <th>75%</th>\n",
              "      <th>max</th>\n",
              "    </tr>\n",
              "  </thead>\n",
              "  <tbody>\n",
              "    <tr>\n",
              "      <th>age</th>\n",
              "      <td>2393.0</td>\n",
              "      <td>45.139156</td>\n",
              "      <td>14.068018</td>\n",
              "      <td>23.0</td>\n",
              "      <td>33.0</td>\n",
              "      <td>43.0</td>\n",
              "      <td>56.0</td>\n",
              "      <td>75.0</td>\n",
              "    </tr>\n",
              "  </tbody>\n",
              "</table>\n",
              "</div>\n",
              "      <button class=\"colab-df-convert\" onclick=\"convertToInteractive('df-74b1f008-67d0-4146-bf3f-1563dbd923c7')\"\n",
              "              title=\"Convert this dataframe to an interactive table.\"\n",
              "              style=\"display:none;\">\n",
              "        \n",
              "  <svg xmlns=\"http://www.w3.org/2000/svg\" height=\"24px\"viewBox=\"0 0 24 24\"\n",
              "       width=\"24px\">\n",
              "    <path d=\"M0 0h24v24H0V0z\" fill=\"none\"/>\n",
              "    <path d=\"M18.56 5.44l.94 2.06.94-2.06 2.06-.94-2.06-.94-.94-2.06-.94 2.06-2.06.94zm-11 1L8.5 8.5l.94-2.06 2.06-.94-2.06-.94L8.5 2.5l-.94 2.06-2.06.94zm10 10l.94 2.06.94-2.06 2.06-.94-2.06-.94-.94-2.06-.94 2.06-2.06.94z\"/><path d=\"M17.41 7.96l-1.37-1.37c-.4-.4-.92-.59-1.43-.59-.52 0-1.04.2-1.43.59L10.3 9.45l-7.72 7.72c-.78.78-.78 2.05 0 2.83L4 21.41c.39.39.9.59 1.41.59.51 0 1.02-.2 1.41-.59l7.78-7.78 2.81-2.81c.8-.78.8-2.07 0-2.86zM5.41 20L4 18.59l7.72-7.72 1.47 1.35L5.41 20z\"/>\n",
              "  </svg>\n",
              "      </button>\n",
              "      \n",
              "  <style>\n",
              "    .colab-df-container {\n",
              "      display:flex;\n",
              "      flex-wrap:wrap;\n",
              "      gap: 12px;\n",
              "    }\n",
              "\n",
              "    .colab-df-convert {\n",
              "      background-color: #E8F0FE;\n",
              "      border: none;\n",
              "      border-radius: 50%;\n",
              "      cursor: pointer;\n",
              "      display: none;\n",
              "      fill: #1967D2;\n",
              "      height: 32px;\n",
              "      padding: 0 0 0 0;\n",
              "      width: 32px;\n",
              "    }\n",
              "\n",
              "    .colab-df-convert:hover {\n",
              "      background-color: #E2EBFA;\n",
              "      box-shadow: 0px 1px 2px rgba(60, 64, 67, 0.3), 0px 1px 3px 1px rgba(60, 64, 67, 0.15);\n",
              "      fill: #174EA6;\n",
              "    }\n",
              "\n",
              "    [theme=dark] .colab-df-convert {\n",
              "      background-color: #3B4455;\n",
              "      fill: #D2E3FC;\n",
              "    }\n",
              "\n",
              "    [theme=dark] .colab-df-convert:hover {\n",
              "      background-color: #434B5C;\n",
              "      box-shadow: 0px 1px 3px 1px rgba(0, 0, 0, 0.15);\n",
              "      filter: drop-shadow(0px 1px 2px rgba(0, 0, 0, 0.3));\n",
              "      fill: #FFFFFF;\n",
              "    }\n",
              "  </style>\n",
              "\n",
              "      <script>\n",
              "        const buttonEl =\n",
              "          document.querySelector('#df-74b1f008-67d0-4146-bf3f-1563dbd923c7 button.colab-df-convert');\n",
              "        buttonEl.style.display =\n",
              "          google.colab.kernel.accessAllowed ? 'block' : 'none';\n",
              "\n",
              "        async function convertToInteractive(key) {\n",
              "          const element = document.querySelector('#df-74b1f008-67d0-4146-bf3f-1563dbd923c7');\n",
              "          const dataTable =\n",
              "            await google.colab.kernel.invokeFunction('convertToInteractive',\n",
              "                                                     [key], {});\n",
              "          if (!dataTable) return;\n",
              "\n",
              "          const docLinkHtml = 'Like what you see? Visit the ' +\n",
              "            '<a target=\"_blank\" href=https://colab.research.google.com/notebooks/data_table.ipynb>data table notebook</a>'\n",
              "            + ' to learn more about interactive tables.';\n",
              "          element.innerHTML = '';\n",
              "          dataTable['output_type'] = 'display_data';\n",
              "          await google.colab.output.renderOutput(dataTable, element);\n",
              "          const docLink = document.createElement('div');\n",
              "          docLink.innerHTML = docLinkHtml;\n",
              "          element.appendChild(docLink);\n",
              "        }\n",
              "      </script>\n",
              "    </div>\n",
              "  </div>\n",
              "  "
            ]
          },
          "metadata": {},
          "execution_count": 23
        }
      ],
      "source": [
        "users_with_age_df.toPandas()[[\"age\"]].describe().transpose()"
      ]
    },
    {
      "cell_type": "code",
      "source": [
        "from pyspark.sql.functions import udf\n",
        "\n",
        "\n",
        "age_range = udf(lambda age: '< 20' if age < 20 else \n",
        "                       '20-29' if (age >= 20 and age < 30) else\n",
        "                       '30-39' if (age >= 30 and age < 40) else\n",
        "                       '40-49' if (age >= 40 and age < 50) else        \n",
        "                       '50-59' if (age >= 50 and age < 60) else\n",
        "                       '60-70' if (age >= 60 and age < 70) else\n",
        "                       '70-79' if (age >= 70 and age < 79) else\n",
        "                       '80-100' if (age >= 80 and age < 101)  else \"\"    \n",
        "                       )\n",
        "\n",
        "users_with_age_df = users_with_age_df.withColumn('age_group', age_range(users_with_age_df.age))\n",
        "users_with_age_df.show()"
      ],
      "metadata": {
        "colab": {
          "base_uri": "https://localhost:8080/"
        },
        "id": "ZFvBNVujHxr2",
        "outputId": "ce649ee3-60d8-481f-e6d4-e5a314e56161"
      },
      "execution_count": 105,
      "outputs": [
        {
          "output_type": "stream",
          "name": "stdout",
          "text": [
            "+-------------------+------+-----------+----------+----------+-------+---+---------+\n",
            "|          timestamp|userId|       nick|   twitter|       dob|country|age|age_group|\n",
            "+-------------------+------+-----------+----------+----------+-------+---+---------+\n",
            "|2012-06-19 14:53:41|   442|   pcjIOBKW|  @SZhyOHv|1994-07-20|     BA| 27|    20-29|\n",
            "|2012-06-19 19:29:01|   949|    vAOfUkf|    @nkkNo|1971-04-22|     HU| 51|    50-59|\n",
            "|2012-06-20 19:34:59|  1654|     qOOXSQ|    @SwOlw|1970-04-19|     IS| 52|    50-59|\n",
            "|2012-06-21 01:18:29|  1586|    px4gW51|  @IrCHTnE|1965-11-23|     AM| 56|    50-59|\n",
            "|2012-06-21 15:35:00|   599|9gkfwRC73Uc|   @VJj0Az|1994-08-23|     CC| 27|    20-29|\n",
            "|2012-06-22 11:36:19|   952| BRbb3VOTti|   @b4OK6K|1986-09-11|     MH| 35|    30-39|\n",
            "|2012-06-23 08:11:18|  1056|    fGCIAtI| @IgDsdWdU|1991-11-28|     SM| 30|    30-39|\n",
            "|2012-06-23 10:54:19|    91|tpDfgi3S0N9|   @LvTHGO|1977-07-03|     BZ| 44|    40-49|\n",
            "|2012-06-23 14:59:26|   809| LkNRpRW6Ez|@ROrRkXwdh|1951-09-25|     PF| 70|    70-79|\n",
            "|2012-06-23 17:40:35|    75|     fNWewX|   @OXqLyv|1979-11-12|     JO| 42|    40-49|\n",
            "|2012-06-23 17:57:05|  2224|   rvXvUU9J|  @YexGCPm|1996-08-27|     GW| 25|    20-29|\n",
            "|2012-06-24 05:29:24|   361|    Pk8oT6o|    @9YksF|1980-10-18|     CK| 41|    40-49|\n",
            "|2012-06-24 23:33:59|   584|TBRJ3YueQCa|    @QsYLb|1957-02-17|     MD| 65|    60-70|\n",
            "|2012-06-25 01:48:50|   295|zBxoWozeDlB| @An4tm5np|1977-03-02|     HK| 45|    40-49|\n",
            "|2012-06-25 02:01:25|  1493|     GnvF8P|  @KnN5TLT|1979-10-05|     QA| 42|    40-49|\n",
            "|2012-06-25 06:38:10|  1605|  m7eHxdgoz| @tcfAzJ3m|1981-10-23|     ZA| 40|    40-49|\n",
            "|2012-06-25 15:04:21|   848|  ZWIRmprJd| @qrP2pQcE|1989-06-20|     SE| 32|    30-39|\n",
            "|2012-06-25 16:53:28|   962|  19aggoZfQ|  @u5Smf32|1949-08-12|     MM| 72|    70-79|\n",
            "|2012-06-26 15:12:33|  2034| olBz6o3Ulg| @lxLPvLKK|1983-12-04|     FO| 38|    30-39|\n",
            "|2012-06-26 22:42:21|   379|  R1Mk1AVrv|    @UGHdE|1980-05-03|     DJ| 42|    40-49|\n",
            "+-------------------+------+-----------+----------+----------+-------+---+---------+\n",
            "only showing top 20 rows\n",
            "\n"
          ]
        }
      ]
    },
    {
      "cell_type": "code",
      "source": [
        "data = users_with_age_df.toPandas()\n",
        "data.loc[data['age']<=19, 'age_group'] = 'teenage'\n",
        "data.loc[data['age'].between(20,35), 'age_group'] = '20-35'\n",
        "data.loc[data['age'].between(36,50), 'age_group'] = '36-50'\n",
        "data.loc[data['age'].between(51,65), 'age_group'] = '51-65'\n",
        "data.loc[data['age'].between(66,100), 'age_group'] = '66-100'\n",
        "\n",
        "data\n",
        "\n"
      ],
      "metadata": {
        "colab": {
          "base_uri": "https://localhost:8080/",
          "height": 424
        },
        "id": "SisA83dZ-yTK",
        "outputId": "2102833e-9e1c-4048-fcd3-55803af5ca1b"
      },
      "execution_count": 67,
      "outputs": [
        {
          "output_type": "execute_result",
          "data": {
            "text/plain": [
              "                timestamp  userId         nick     twitter         dob  \\\n",
              "0     2012-06-19 14:53:41     442     pcjIOBKW    @SZhyOHv  1994-07-20   \n",
              "1     2012-06-19 19:29:01     949      vAOfUkf      @nkkNo  1971-04-22   \n",
              "2     2012-06-20 19:34:59    1654       qOOXSQ      @SwOlw  1970-04-19   \n",
              "3     2012-06-21 01:18:29    1586      px4gW51    @IrCHTnE  1965-11-23   \n",
              "4     2012-06-21 15:35:00     599  9gkfwRC73Uc     @VJj0Az  1994-08-23   \n",
              "...                   ...     ...          ...         ...         ...   \n",
              "2388  2016-06-11 05:17:17    2312    CJOHXgqKh  @ZomNVFWoF  1996-10-05   \n",
              "2389  2016-06-14 03:19:04     100      lJexGia  @BYQ14xmNd  1987-05-25   \n",
              "2390  2016-06-14 10:40:22     651   iynipG41EV  @nXTCcg7sV  1987-04-08   \n",
              "2391  2016-06-15 16:33:25    2390   hH9wrFLdTt    @KimUIQF  1991-03-02   \n",
              "2392  2016-06-16 05:39:34    2032  qN1yFPzBziE  @LjYnHRVjD  1997-07-22   \n",
              "\n",
              "     country  age age_group  \n",
              "0         BA   27     20-35  \n",
              "1         HU   51     51-65  \n",
              "2         IS   52     51-65  \n",
              "3         AM   56     51-65  \n",
              "4         CC   27     20-35  \n",
              "...      ...  ...       ...  \n",
              "2388      MT   25     20-35  \n",
              "2389      CR   34     20-35  \n",
              "2390      CI   35     20-35  \n",
              "2391      TK   31     20-35  \n",
              "2392      JP   24     20-35  \n",
              "\n",
              "[2393 rows x 8 columns]"
            ],
            "text/html": [
              "\n",
              "  <div id=\"df-bb1fef42-882e-48cc-8071-776e8a66b0a5\">\n",
              "    <div class=\"colab-df-container\">\n",
              "      <div>\n",
              "<style scoped>\n",
              "    .dataframe tbody tr th:only-of-type {\n",
              "        vertical-align: middle;\n",
              "    }\n",
              "\n",
              "    .dataframe tbody tr th {\n",
              "        vertical-align: top;\n",
              "    }\n",
              "\n",
              "    .dataframe thead th {\n",
              "        text-align: right;\n",
              "    }\n",
              "</style>\n",
              "<table border=\"1\" class=\"dataframe\">\n",
              "  <thead>\n",
              "    <tr style=\"text-align: right;\">\n",
              "      <th></th>\n",
              "      <th>timestamp</th>\n",
              "      <th>userId</th>\n",
              "      <th>nick</th>\n",
              "      <th>twitter</th>\n",
              "      <th>dob</th>\n",
              "      <th>country</th>\n",
              "      <th>age</th>\n",
              "      <th>age_group</th>\n",
              "    </tr>\n",
              "  </thead>\n",
              "  <tbody>\n",
              "    <tr>\n",
              "      <th>0</th>\n",
              "      <td>2012-06-19 14:53:41</td>\n",
              "      <td>442</td>\n",
              "      <td>pcjIOBKW</td>\n",
              "      <td>@SZhyOHv</td>\n",
              "      <td>1994-07-20</td>\n",
              "      <td>BA</td>\n",
              "      <td>27</td>\n",
              "      <td>20-35</td>\n",
              "    </tr>\n",
              "    <tr>\n",
              "      <th>1</th>\n",
              "      <td>2012-06-19 19:29:01</td>\n",
              "      <td>949</td>\n",
              "      <td>vAOfUkf</td>\n",
              "      <td>@nkkNo</td>\n",
              "      <td>1971-04-22</td>\n",
              "      <td>HU</td>\n",
              "      <td>51</td>\n",
              "      <td>51-65</td>\n",
              "    </tr>\n",
              "    <tr>\n",
              "      <th>2</th>\n",
              "      <td>2012-06-20 19:34:59</td>\n",
              "      <td>1654</td>\n",
              "      <td>qOOXSQ</td>\n",
              "      <td>@SwOlw</td>\n",
              "      <td>1970-04-19</td>\n",
              "      <td>IS</td>\n",
              "      <td>52</td>\n",
              "      <td>51-65</td>\n",
              "    </tr>\n",
              "    <tr>\n",
              "      <th>3</th>\n",
              "      <td>2012-06-21 01:18:29</td>\n",
              "      <td>1586</td>\n",
              "      <td>px4gW51</td>\n",
              "      <td>@IrCHTnE</td>\n",
              "      <td>1965-11-23</td>\n",
              "      <td>AM</td>\n",
              "      <td>56</td>\n",
              "      <td>51-65</td>\n",
              "    </tr>\n",
              "    <tr>\n",
              "      <th>4</th>\n",
              "      <td>2012-06-21 15:35:00</td>\n",
              "      <td>599</td>\n",
              "      <td>9gkfwRC73Uc</td>\n",
              "      <td>@VJj0Az</td>\n",
              "      <td>1994-08-23</td>\n",
              "      <td>CC</td>\n",
              "      <td>27</td>\n",
              "      <td>20-35</td>\n",
              "    </tr>\n",
              "    <tr>\n",
              "      <th>...</th>\n",
              "      <td>...</td>\n",
              "      <td>...</td>\n",
              "      <td>...</td>\n",
              "      <td>...</td>\n",
              "      <td>...</td>\n",
              "      <td>...</td>\n",
              "      <td>...</td>\n",
              "      <td>...</td>\n",
              "    </tr>\n",
              "    <tr>\n",
              "      <th>2388</th>\n",
              "      <td>2016-06-11 05:17:17</td>\n",
              "      <td>2312</td>\n",
              "      <td>CJOHXgqKh</td>\n",
              "      <td>@ZomNVFWoF</td>\n",
              "      <td>1996-10-05</td>\n",
              "      <td>MT</td>\n",
              "      <td>25</td>\n",
              "      <td>20-35</td>\n",
              "    </tr>\n",
              "    <tr>\n",
              "      <th>2389</th>\n",
              "      <td>2016-06-14 03:19:04</td>\n",
              "      <td>100</td>\n",
              "      <td>lJexGia</td>\n",
              "      <td>@BYQ14xmNd</td>\n",
              "      <td>1987-05-25</td>\n",
              "      <td>CR</td>\n",
              "      <td>34</td>\n",
              "      <td>20-35</td>\n",
              "    </tr>\n",
              "    <tr>\n",
              "      <th>2390</th>\n",
              "      <td>2016-06-14 10:40:22</td>\n",
              "      <td>651</td>\n",
              "      <td>iynipG41EV</td>\n",
              "      <td>@nXTCcg7sV</td>\n",
              "      <td>1987-04-08</td>\n",
              "      <td>CI</td>\n",
              "      <td>35</td>\n",
              "      <td>20-35</td>\n",
              "    </tr>\n",
              "    <tr>\n",
              "      <th>2391</th>\n",
              "      <td>2016-06-15 16:33:25</td>\n",
              "      <td>2390</td>\n",
              "      <td>hH9wrFLdTt</td>\n",
              "      <td>@KimUIQF</td>\n",
              "      <td>1991-03-02</td>\n",
              "      <td>TK</td>\n",
              "      <td>31</td>\n",
              "      <td>20-35</td>\n",
              "    </tr>\n",
              "    <tr>\n",
              "      <th>2392</th>\n",
              "      <td>2016-06-16 05:39:34</td>\n",
              "      <td>2032</td>\n",
              "      <td>qN1yFPzBziE</td>\n",
              "      <td>@LjYnHRVjD</td>\n",
              "      <td>1997-07-22</td>\n",
              "      <td>JP</td>\n",
              "      <td>24</td>\n",
              "      <td>20-35</td>\n",
              "    </tr>\n",
              "  </tbody>\n",
              "</table>\n",
              "<p>2393 rows × 8 columns</p>\n",
              "</div>\n",
              "      <button class=\"colab-df-convert\" onclick=\"convertToInteractive('df-bb1fef42-882e-48cc-8071-776e8a66b0a5')\"\n",
              "              title=\"Convert this dataframe to an interactive table.\"\n",
              "              style=\"display:none;\">\n",
              "        \n",
              "  <svg xmlns=\"http://www.w3.org/2000/svg\" height=\"24px\"viewBox=\"0 0 24 24\"\n",
              "       width=\"24px\">\n",
              "    <path d=\"M0 0h24v24H0V0z\" fill=\"none\"/>\n",
              "    <path d=\"M18.56 5.44l.94 2.06.94-2.06 2.06-.94-2.06-.94-.94-2.06-.94 2.06-2.06.94zm-11 1L8.5 8.5l.94-2.06 2.06-.94-2.06-.94L8.5 2.5l-.94 2.06-2.06.94zm10 10l.94 2.06.94-2.06 2.06-.94-2.06-.94-.94-2.06-.94 2.06-2.06.94z\"/><path d=\"M17.41 7.96l-1.37-1.37c-.4-.4-.92-.59-1.43-.59-.52 0-1.04.2-1.43.59L10.3 9.45l-7.72 7.72c-.78.78-.78 2.05 0 2.83L4 21.41c.39.39.9.59 1.41.59.51 0 1.02-.2 1.41-.59l7.78-7.78 2.81-2.81c.8-.78.8-2.07 0-2.86zM5.41 20L4 18.59l7.72-7.72 1.47 1.35L5.41 20z\"/>\n",
              "  </svg>\n",
              "      </button>\n",
              "      \n",
              "  <style>\n",
              "    .colab-df-container {\n",
              "      display:flex;\n",
              "      flex-wrap:wrap;\n",
              "      gap: 12px;\n",
              "    }\n",
              "\n",
              "    .colab-df-convert {\n",
              "      background-color: #E8F0FE;\n",
              "      border: none;\n",
              "      border-radius: 50%;\n",
              "      cursor: pointer;\n",
              "      display: none;\n",
              "      fill: #1967D2;\n",
              "      height: 32px;\n",
              "      padding: 0 0 0 0;\n",
              "      width: 32px;\n",
              "    }\n",
              "\n",
              "    .colab-df-convert:hover {\n",
              "      background-color: #E2EBFA;\n",
              "      box-shadow: 0px 1px 2px rgba(60, 64, 67, 0.3), 0px 1px 3px 1px rgba(60, 64, 67, 0.15);\n",
              "      fill: #174EA6;\n",
              "    }\n",
              "\n",
              "    [theme=dark] .colab-df-convert {\n",
              "      background-color: #3B4455;\n",
              "      fill: #D2E3FC;\n",
              "    }\n",
              "\n",
              "    [theme=dark] .colab-df-convert:hover {\n",
              "      background-color: #434B5C;\n",
              "      box-shadow: 0px 1px 3px 1px rgba(0, 0, 0, 0.15);\n",
              "      filter: drop-shadow(0px 1px 2px rgba(0, 0, 0, 0.3));\n",
              "      fill: #FFFFFF;\n",
              "    }\n",
              "  </style>\n",
              "\n",
              "      <script>\n",
              "        const buttonEl =\n",
              "          document.querySelector('#df-bb1fef42-882e-48cc-8071-776e8a66b0a5 button.colab-df-convert');\n",
              "        buttonEl.style.display =\n",
              "          google.colab.kernel.accessAllowed ? 'block' : 'none';\n",
              "\n",
              "        async function convertToInteractive(key) {\n",
              "          const element = document.querySelector('#df-bb1fef42-882e-48cc-8071-776e8a66b0a5');\n",
              "          const dataTable =\n",
              "            await google.colab.kernel.invokeFunction('convertToInteractive',\n",
              "                                                     [key], {});\n",
              "          if (!dataTable) return;\n",
              "\n",
              "          const docLinkHtml = 'Like what you see? Visit the ' +\n",
              "            '<a target=\"_blank\" href=https://colab.research.google.com/notebooks/data_table.ipynb>data table notebook</a>'\n",
              "            + ' to learn more about interactive tables.';\n",
              "          element.innerHTML = '';\n",
              "          dataTable['output_type'] = 'display_data';\n",
              "          await google.colab.output.renderOutput(dataTable, element);\n",
              "          const docLink = document.createElement('div');\n",
              "          docLink.innerHTML = docLinkHtml;\n",
              "          element.appendChild(docLink);\n",
              "        }\n",
              "      </script>\n",
              "    </div>\n",
              "  </div>\n",
              "  "
            ]
          },
          "metadata": {},
          "execution_count": 67
        }
      ]
    },
    {
      "cell_type": "code",
      "source": [
        "from pyspark.sql import Window\n",
        "from pyspark.sql.functions import rank,sum,col\n",
        "import pyspark.sql.functions as f\n",
        "\n",
        "\n",
        "window = Window.rowsBetween(Window.unboundedPreceding,Window.unboundedFollowing)\n",
        "\n",
        "w = Window.partitionBy('x')\n",
        "\n",
        "users_with_age_df_grouped = users_with_age_df.groupBy('age_group').count()\\\n",
        "        .select('age_group', f.col('count').alias('age_group_count'))\\\n",
        "        .sort(f.asc(\"age_group\")) \n",
        "\n",
        "\n",
        "users_with_age_df_grouped.show()"
      ],
      "metadata": {
        "colab": {
          "base_uri": "https://localhost:8080/"
        },
        "id": "xXHSMuHrB0pe",
        "outputId": "38332024-49aa-4712-a511-4dfaba978fed"
      },
      "execution_count": 114,
      "outputs": [
        {
          "output_type": "stream",
          "name": "stdout",
          "text": [
            "+---------+---------------+\n",
            "|age_group|age_group_count|\n",
            "+---------+---------------+\n",
            "|    20-29|            379|\n",
            "|    30-39|            591|\n",
            "|    40-49|            536|\n",
            "|    50-59|            436|\n",
            "|    60-70|            305|\n",
            "|    70-79|            146|\n",
            "+---------+---------------+\n",
            "\n"
          ]
        }
      ]
    },
    {
      "cell_type": "code",
      "execution_count": 271,
      "metadata": {
        "id": "lNyAYD6h5gjt",
        "colab": {
          "base_uri": "https://localhost:8080/",
          "height": 703
        },
        "outputId": "7506dc50-da49-4b27-a67e-69d426dd6f4f"
      },
      "outputs": [
        {
          "output_type": "display_data",
          "data": {
            "text/plain": [
              "<Figure size 1280x800 with 1 Axes>"
            ],
            "image/png": "[encoded data removed]"
          },
          "metadata": {}
        }
      ],
      "source": [
        "\n",
        "# users_with_age_df.toPandas().hist(column = \"age\", bins = 10)\n",
        "\n",
        "\n",
        "import random\n",
        "\n",
        "# Import Data\n",
        "df_raw = users_with_age_df_grouped\n",
        "\n",
        "\n",
        "\n",
        "# Prepare Data\n",
        "df = users_with_age_df_grouped.toPandas()\n",
        "n = users_with_age_df_grouped[\"age_group\"].size+1\n",
        "\n",
        "\n",
        "all_colors = list(plt.cm.colors.cnames.keys())\n",
        "random.seed(100)\n",
        "c = random.choices(all_colors, k=7)\n",
        "\n",
        "# Plot Bars\n",
        "plt.figure(figsize=(16,10), dpi= 80)\n",
        "ax = sns.barplot(x=\"age_group\", y=\"age_group_count\", data=df,\n",
        "\n",
        "                 palette=\"Blues_d\")\n",
        "\n",
        "for i, val in enumerate(df['age_group_count'].values):\n",
        "    plt.text(i, val, float(val), horizontalalignment='center', verticalalignment='bottom', fontdict={'fontweight':500, 'size':12})\n",
        "\n",
        "# Decoration\n",
        "plt.gca().set_xticklabels(df['age_group'], rotation=60, horizontalalignment= 'right')\n",
        "plt.title(\"Age Group Count Of Players\", fontsize=22)\n",
        "plt.ylabel('Counts')\n",
        "plt.xlabel('Age Group')\n",
        "plt.show()\n",
        "\n",
        "\n",
        "\n",
        "\n"
      ]
    },
    {
      "cell_type": "code",
      "execution_count": 24,
      "metadata": {
        "id": "F59BMGTYmPGe"
      },
      "outputs": [],
      "source": [
        ""
      ]
    },
    {
      "cell_type": "code",
      "execution_count": 257,
      "metadata": {
        "id": "eXVdM8kfrJrX",
        "colab": {
          "base_uri": "https://localhost:8080/",
          "height": 241
        },
        "outputId": "5fe686b5-9e3f-4d1f-bfc3-76a585be87db"
      },
      "outputs": [
        {
          "output_type": "error",
          "ename": "AttributeError",
          "evalue": "ignored",
          "traceback": [
            "\u001b[0;31m---------------------------------------------------------------------------\u001b[0m",
            "\u001b[0;31mAttributeError\u001b[0m                            Traceback (most recent call last)",
            "\u001b[0;32m<ipython-input-257-4419ef9b533e>\u001b[0m in \u001b[0;36m<module>\u001b[0;34m()\u001b[0m\n\u001b[0;32m----> 1\u001b[0;31m \u001b[0mteam_buying_df\u001b[0m \u001b[0;34m=\u001b[0m \u001b[0mteam_df\u001b[0m\u001b[0;34m.\u001b[0m\u001b[0malias\u001b[0m\u001b[0;34m(\u001b[0m\u001b[0;34m\"teamdf\"\u001b[0m\u001b[0;34m)\u001b[0m\u001b[0;34m.\u001b[0m\u001b[0mjoin\u001b[0m\u001b[0;34m(\u001b[0m\u001b[0mbuyclicks_df\u001b[0m\u001b[0;34m.\u001b[0m\u001b[0malias\u001b[0m\u001b[0;34m(\u001b[0m\u001b[0;34m\"buyclicks\"\u001b[0m\u001b[0;34m)\u001b[0m\u001b[0;34m,\u001b[0m                           \u001b[0mf\u001b[0m\u001b[0;34m.\u001b[0m\u001b[0mcol\u001b[0m\u001b[0;34m(\u001b[0m\u001b[0;34m\"teamdf.teamId\"\u001b[0m\u001b[0;34m)\u001b[0m \u001b[0;34m==\u001b[0m \u001b[0mf\u001b[0m\u001b[0;34m.\u001b[0m\u001b[0mcol\u001b[0m\u001b[0;34m(\u001b[0m\u001b[0;34m\"buyclicks.team\"\u001b[0m\u001b[0;34m)\u001b[0m\u001b[0;34m,\u001b[0m\u001b[0;34m\"inner\"\u001b[0m\u001b[0;34m)\u001b[0m\u001b[0;34m\u001b[0m\u001b[0;34m\u001b[0m\u001b[0m\n\u001b[0m\u001b[1;32m      2\u001b[0m \u001b[0;34m\u001b[0m\u001b[0m\n\u001b[1;32m      3\u001b[0m \u001b[0;34m\u001b[0m\u001b[0m\n\u001b[1;32m      4\u001b[0m \u001b[0mteam_buying_df\u001b[0m\u001b[0;34m.\u001b[0m\u001b[0mshow\u001b[0m\u001b[0;34m(\u001b[0m\u001b[0;34m)\u001b[0m\u001b[0;34m\u001b[0m\u001b[0;34m\u001b[0m\u001b[0m\n",
            "\u001b[0;31mAttributeError\u001b[0m: 'Figure' object has no attribute 'col'"
          ]
        }
      ],
      "source": [
        ""
      ]
    },
    {
      "cell_type": "code",
      "execution_count": 25,
      "metadata": {
        "id": "Xyo4nawm7U9T",
        "colab": {
          "base_uri": "https://localhost:8080/"
        },
        "outputId": "5ec1c2d9-5aaf-4594-991b-c0a3d0694de7"
      },
      "outputs": [
        {
          "output_type": "stream",
          "name": "stdout",
          "text": [
            "+-------+-----+\n",
            "|country|count|\n",
            "+-------+-----+\n",
            "|     UA|    9|\n",
            "|     SD|    9|\n",
            "|     EE|    9|\n",
            "|     MR|    9|\n",
            "|     CM|    9|\n",
            "|     AZ|    9|\n",
            "+-------+-----+\n",
            "only showing top 6 rows\n",
            "\n"
          ]
        }
      ],
      "source": [
        "users_with_age_df.groupBy(\"country\").count().orderBy(\"count\").show(6)"
      ]
    },
    {
      "cell_type": "code",
      "execution_count": 256,
      "metadata": {
        "id": "duXJWf22z404",
        "colab": {
          "base_uri": "https://localhost:8080/",
          "height": 259
        },
        "outputId": "ca873f5a-9b80-4d7d-a08e-888ffc9b2ae2"
      },
      "outputs": [
        {
          "output_type": "error",
          "ename": "AttributeError",
          "evalue": "ignored",
          "traceback": [
            "\u001b[0;31m---------------------------------------------------------------------------\u001b[0m",
            "\u001b[0;31mAttributeError\u001b[0m                            Traceback (most recent call last)",
            "\u001b[0;32m<ipython-input-256-51dc44f90837>\u001b[0m in \u001b[0;36m<module>\u001b[0;34m()\u001b[0m\n\u001b[1;32m      4\u001b[0m \u001b[0;34m\u001b[0m\u001b[0m\n\u001b[1;32m      5\u001b[0m \u001b[0;34m\u001b[0m\u001b[0m\n\u001b[0;32m----> 6\u001b[0;31m \u001b[0mteam_buying_df_grouped\u001b[0m \u001b[0;34m=\u001b[0m \u001b[0mteam_buying_df\u001b[0m\u001b[0;34m.\u001b[0m\u001b[0mgroupBy\u001b[0m\u001b[0;34m(\u001b[0m\u001b[0;34m\"teamId\"\u001b[0m\u001b[0;34m)\u001b[0m\u001b[0;34m.\u001b[0m\u001b[0msum\u001b[0m\u001b[0;34m(\u001b[0m\u001b[0;34m\"price\"\u001b[0m\u001b[0;34m,\u001b[0m \u001b[0;34m\"strength\"\u001b[0m\u001b[0;34m)\u001b[0m        \u001b[0;34m.\u001b[0m\u001b[0mselect\u001b[0m\u001b[0;34m(\u001b[0m\u001b[0;34m'teamId'\u001b[0m\u001b[0;34m,\u001b[0m \u001b[0mf\u001b[0m\u001b[0;34m.\u001b[0m\u001b[0mcol\u001b[0m\u001b[0;34m(\u001b[0m\u001b[0;34m'sum(price)'\u001b[0m\u001b[0;34m)\u001b[0m\u001b[0;34m.\u001b[0m\u001b[0malias\u001b[0m\u001b[0;34m(\u001b[0m\u001b[0;34m'total_spending'\u001b[0m\u001b[0;34m)\u001b[0m\u001b[0;34m,\u001b[0m \u001b[0mf\u001b[0m\u001b[0;34m.\u001b[0m\u001b[0mcol\u001b[0m\u001b[0;34m(\u001b[0m\u001b[0;34m'sum(strength)'\u001b[0m\u001b[0;34m)\u001b[0m\u001b[0;34m.\u001b[0m\u001b[0malias\u001b[0m\u001b[0;34m(\u001b[0m\u001b[0;34m'total_strength'\u001b[0m\u001b[0;34m)\u001b[0m\u001b[0;34m)\u001b[0m        \u001b[0;34m.\u001b[0m\u001b[0morderBy\u001b[0m\u001b[0;34m(\u001b[0m\u001b[0;34m\"sum(price)\"\u001b[0m\u001b[0;34m)\u001b[0m\u001b[0;34m\u001b[0m\u001b[0;34m\u001b[0m\u001b[0m\n\u001b[0m\u001b[1;32m      7\u001b[0m \u001b[0;34m\u001b[0m\u001b[0m\n\u001b[1;32m      8\u001b[0m \u001b[0mteam_buying_df\u001b[0m\u001b[0;34m.\u001b[0m\u001b[0mstat\u001b[0m\u001b[0;34m.\u001b[0m\u001b[0mcorr\u001b[0m\u001b[0;34m(\u001b[0m\u001b[0;34m\"price\"\u001b[0m\u001b[0;34m,\u001b[0m\u001b[0;34m\"strength\"\u001b[0m\u001b[0;34m)\u001b[0m\u001b[0;34m\u001b[0m\u001b[0;34m\u001b[0m\u001b[0m\n",
            "\u001b[0;31mAttributeError\u001b[0m: 'Figure' object has no attribute 'col'"
          ]
        }
      ],
      "source": [
        "\n",
        "\n",
        "\n"
      ]
    },
    {
      "cell_type": "code",
      "source": [
        "!pip install scipy"
      ],
      "metadata": {
        "colab": {
          "base_uri": "https://localhost:8080/"
        },
        "id": "so_8XWzsUwVF",
        "outputId": "78a5af9e-3f08-428d-889b-49d621718229"
      },
      "execution_count": 130,
      "outputs": [
        {
          "output_type": "stream",
          "name": "stdout",
          "text": [
            "Requirement already satisfied: scipy in /usr/local/lib/python3.7/dist-packages (1.4.1)\n",
            "Requirement already satisfied: numpy>=1.13.3 in /usr/local/lib/python3.7/dist-packages (from scipy) (1.21.6)\n"
          ]
        }
      ]
    },
    {
      "cell_type": "code",
      "source": [
        "df = team_buying_df_grouped.toPandas() \n",
        "\n",
        "df"
      ],
      "metadata": {
        "colab": {
          "base_uri": "https://localhost:8080/",
          "height": 1000
        },
        "id": "00jrlrS0YGnj",
        "outputId": "ddd0416e-a0e5-421c-d46e-a1e24d9b3ea9"
      },
      "execution_count": 143,
      "outputs": [
        {
          "output_type": "execute_result",
          "data": {
            "text/plain": [
              "    teamId  total_spending  total_strength\n",
              "0       28             8.0        2.672721\n",
              "1       95            89.0        7.717836\n",
              "2       39           116.0       16.524637\n",
              "3       32           141.0        7.471528\n",
              "4      100           160.0       27.269889\n",
              "5       69           169.0        3.339691\n",
              "6       70           170.0       15.750538\n",
              "7       78           176.0       23.110770\n",
              "8       86           178.0        7.840508\n",
              "9        2           178.0        4.252460\n",
              "10      44           188.0       16.111015\n",
              "11      75           206.0       27.869007\n",
              "12      77           209.0       39.691975\n",
              "13      71           236.0       16.418027\n",
              "14      82           243.0        0.491182\n",
              "15      93           260.0       14.969691\n",
              "16      63           283.0       34.306401\n",
              "17      36           321.0       32.106103\n",
              "18      57           328.0        2.579702\n",
              "19      25           328.0       37.570200\n",
              "20      85           352.0        5.949670\n",
              "21      61           358.0       10.241825\n",
              "22      74           370.0       23.238739\n",
              "23      84           377.0        9.027382\n",
              "24       8           382.0       29.064602\n",
              "25      90           388.0       15.953847\n",
              "26      99           392.0       70.551260\n",
              "27      18           421.0       69.066652\n",
              "28      51           447.0       41.388386\n",
              "29      13           448.0       48.711590\n",
              "30      94           450.0       32.918595\n",
              "31      20           458.0       12.113810\n",
              "32       9           513.0       93.313204\n",
              "33      72           534.0       31.017363\n",
              "34      22           535.0       40.651476\n",
              "35      97           549.0       25.899923\n",
              "36      11           587.0        3.173962\n",
              "37      59           644.0       37.301524\n",
              "38      66           647.0       27.135285\n",
              "39      53           677.0       20.382038\n",
              "40      64           693.0       40.608991\n",
              "41      35           710.0       78.589781\n",
              "42      54           777.0       31.210211\n",
              "43      27           880.0       14.279039"
            ],
            "text/html": [
              "\n",
              "  <div id=\"df-619f47e3-b4e9-4984-a646-348808f011b7\">\n",
              "    <div class=\"colab-df-container\">\n",
              "      <div>\n",
              "<style scoped>\n",
              "    .dataframe tbody tr th:only-of-type {\n",
              "        vertical-align: middle;\n",
              "    }\n",
              "\n",
              "    .dataframe tbody tr th {\n",
              "        vertical-align: top;\n",
              "    }\n",
              "\n",
              "    .dataframe thead th {\n",
              "        text-align: right;\n",
              "    }\n",
              "</style>\n",
              "<table border=\"1\" class=\"dataframe\">\n",
              "  <thead>\n",
              "    <tr style=\"text-align: right;\">\n",
              "      <th></th>\n",
              "      <th>teamId</th>\n",
              "      <th>total_spending</th>\n",
              "      <th>total_strength</th>\n",
              "    </tr>\n",
              "  </thead>\n",
              "  <tbody>\n",
              "    <tr>\n",
              "      <th>0</th>\n",
              "      <td>28</td>\n",
              "      <td>8.0</td>\n",
              "      <td>2.672721</td>\n",
              "    </tr>\n",
              "    <tr>\n",
              "      <th>1</th>\n",
              "      <td>95</td>\n",
              "      <td>89.0</td>\n",
              "      <td>7.717836</td>\n",
              "    </tr>\n",
              "    <tr>\n",
              "      <th>2</th>\n",
              "      <td>39</td>\n",
              "      <td>116.0</td>\n",
              "      <td>16.524637</td>\n",
              "    </tr>\n",
              "    <tr>\n",
              "      <th>3</th>\n",
              "      <td>32</td>\n",
              "      <td>141.0</td>\n",
              "      <td>7.471528</td>\n",
              "    </tr>\n",
              "    <tr>\n",
              "      <th>4</th>\n",
              "      <td>100</td>\n",
              "      <td>160.0</td>\n",
              "      <td>27.269889</td>\n",
              "    </tr>\n",
              "    <tr>\n",
              "      <th>5</th>\n",
              "      <td>69</td>\n",
              "      <td>169.0</td>\n",
              "      <td>3.339691</td>\n",
              "    </tr>\n",
              "    <tr>\n",
              "      <th>6</th>\n",
              "      <td>70</td>\n",
              "      <td>170.0</td>\n",
              "      <td>15.750538</td>\n",
              "    </tr>\n",
              "    <tr>\n",
              "      <th>7</th>\n",
              "      <td>78</td>\n",
              "      <td>176.0</td>\n",
              "      <td>23.110770</td>\n",
              "    </tr>\n",
              "    <tr>\n",
              "      <th>8</th>\n",
              "      <td>86</td>\n",
              "      <td>178.0</td>\n",
              "      <td>7.840508</td>\n",
              "    </tr>\n",
              "    <tr>\n",
              "      <th>9</th>\n",
              "      <td>2</td>\n",
              "      <td>178.0</td>\n",
              "      <td>4.252460</td>\n",
              "    </tr>\n",
              "    <tr>\n",
              "      <th>10</th>\n",
              "      <td>44</td>\n",
              "      <td>188.0</td>\n",
              "      <td>16.111015</td>\n",
              "    </tr>\n",
              "    <tr>\n",
              "      <th>11</th>\n",
              "      <td>75</td>\n",
              "      <td>206.0</td>\n",
              "      <td>27.869007</td>\n",
              "    </tr>\n",
              "    <tr>\n",
              "      <th>12</th>\n",
              "      <td>77</td>\n",
              "      <td>209.0</td>\n",
              "      <td>39.691975</td>\n",
              "    </tr>\n",
              "    <tr>\n",
              "      <th>13</th>\n",
              "      <td>71</td>\n",
              "      <td>236.0</td>\n",
              "      <td>16.418027</td>\n",
              "    </tr>\n",
              "    <tr>\n",
              "      <th>14</th>\n",
              "      <td>82</td>\n",
              "      <td>243.0</td>\n",
              "      <td>0.491182</td>\n",
              "    </tr>\n",
              "    <tr>\n",
              "      <th>15</th>\n",
              "      <td>93</td>\n",
              "      <td>260.0</td>\n",
              "      <td>14.969691</td>\n",
              "    </tr>\n",
              "    <tr>\n",
              "      <th>16</th>\n",
              "      <td>63</td>\n",
              "      <td>283.0</td>\n",
              "      <td>34.306401</td>\n",
              "    </tr>\n",
              "    <tr>\n",
              "      <th>17</th>\n",
              "      <td>36</td>\n",
              "      <td>321.0</td>\n",
              "      <td>32.106103</td>\n",
              "    </tr>\n",
              "    <tr>\n",
              "      <th>18</th>\n",
              "      <td>57</td>\n",
              "      <td>328.0</td>\n",
              "      <td>2.579702</td>\n",
              "    </tr>\n",
              "    <tr>\n",
              "      <th>19</th>\n",
              "      <td>25</td>\n",
              "      <td>328.0</td>\n",
              "      <td>37.570200</td>\n",
              "    </tr>\n",
              "    <tr>\n",
              "      <th>20</th>\n",
              "      <td>85</td>\n",
              "      <td>352.0</td>\n",
              "      <td>5.949670</td>\n",
              "    </tr>\n",
              "    <tr>\n",
              "      <th>21</th>\n",
              "      <td>61</td>\n",
              "      <td>358.0</td>\n",
              "      <td>10.241825</td>\n",
              "    </tr>\n",
              "    <tr>\n",
              "      <th>22</th>\n",
              "      <td>74</td>\n",
              "      <td>370.0</td>\n",
              "      <td>23.238739</td>\n",
              "    </tr>\n",
              "    <tr>\n",
              "      <th>23</th>\n",
              "      <td>84</td>\n",
              "      <td>377.0</td>\n",
              "      <td>9.027382</td>\n",
              "    </tr>\n",
              "    <tr>\n",
              "      <th>24</th>\n",
              "      <td>8</td>\n",
              "      <td>382.0</td>\n",
              "      <td>29.064602</td>\n",
              "    </tr>\n",
              "    <tr>\n",
              "      <th>25</th>\n",
              "      <td>90</td>\n",
              "      <td>388.0</td>\n",
              "      <td>15.953847</td>\n",
              "    </tr>\n",
              "    <tr>\n",
              "      <th>26</th>\n",
              "      <td>99</td>\n",
              "      <td>392.0</td>\n",
              "      <td>70.551260</td>\n",
              "    </tr>\n",
              "    <tr>\n",
              "      <th>27</th>\n",
              "      <td>18</td>\n",
              "      <td>421.0</td>\n",
              "      <td>69.066652</td>\n",
              "    </tr>\n",
              "    <tr>\n",
              "      <th>28</th>\n",
              "      <td>51</td>\n",
              "      <td>447.0</td>\n",
              "      <td>41.388386</td>\n",
              "    </tr>\n",
              "    <tr>\n",
              "      <th>29</th>\n",
              "      <td>13</td>\n",
              "      <td>448.0</td>\n",
              "      <td>48.711590</td>\n",
              "    </tr>\n",
              "    <tr>\n",
              "      <th>30</th>\n",
              "      <td>94</td>\n",
              "      <td>450.0</td>\n",
              "      <td>32.918595</td>\n",
              "    </tr>\n",
              "    <tr>\n",
              "      <th>31</th>\n",
              "      <td>20</td>\n",
              "      <td>458.0</td>\n",
              "      <td>12.113810</td>\n",
              "    </tr>\n",
              "    <tr>\n",
              "      <th>32</th>\n",
              "      <td>9</td>\n",
              "      <td>513.0</td>\n",
              "      <td>93.313204</td>\n",
              "    </tr>\n",
              "    <tr>\n",
              "      <th>33</th>\n",
              "      <td>72</td>\n",
              "      <td>534.0</td>\n",
              "      <td>31.017363</td>\n",
              "    </tr>\n",
              "    <tr>\n",
              "      <th>34</th>\n",
              "      <td>22</td>\n",
              "      <td>535.0</td>\n",
              "      <td>40.651476</td>\n",
              "    </tr>\n",
              "    <tr>\n",
              "      <th>35</th>\n",
              "      <td>97</td>\n",
              "      <td>549.0</td>\n",
              "      <td>25.899923</td>\n",
              "    </tr>\n",
              "    <tr>\n",
              "      <th>36</th>\n",
              "      <td>11</td>\n",
              "      <td>587.0</td>\n",
              "      <td>3.173962</td>\n",
              "    </tr>\n",
              "    <tr>\n",
              "      <th>37</th>\n",
              "      <td>59</td>\n",
              "      <td>644.0</td>\n",
              "      <td>37.301524</td>\n",
              "    </tr>\n",
              "    <tr>\n",
              "      <th>38</th>\n",
              "      <td>66</td>\n",
              "      <td>647.0</td>\n",
              "      <td>27.135285</td>\n",
              "    </tr>\n",
              "    <tr>\n",
              "      <th>39</th>\n",
              "      <td>53</td>\n",
              "      <td>677.0</td>\n",
              "      <td>20.382038</td>\n",
              "    </tr>\n",
              "    <tr>\n",
              "      <th>40</th>\n",
              "      <td>64</td>\n",
              "      <td>693.0</td>\n",
              "      <td>40.608991</td>\n",
              "    </tr>\n",
              "    <tr>\n",
              "      <th>41</th>\n",
              "      <td>35</td>\n",
              "      <td>710.0</td>\n",
              "      <td>78.589781</td>\n",
              "    </tr>\n",
              "    <tr>\n",
              "      <th>42</th>\n",
              "      <td>54</td>\n",
              "      <td>777.0</td>\n",
              "      <td>31.210211</td>\n",
              "    </tr>\n",
              "    <tr>\n",
              "      <th>43</th>\n",
              "      <td>27</td>\n",
              "      <td>880.0</td>\n",
              "      <td>14.279039</td>\n",
              "    </tr>\n",
              "  </tbody>\n",
              "</table>\n",
              "</div>\n",
              "      <button class=\"colab-df-convert\" onclick=\"convertToInteractive('df-619f47e3-b4e9-4984-a646-348808f011b7')\"\n",
              "              title=\"Convert this dataframe to an interactive table.\"\n",
              "              style=\"display:none;\">\n",
              "        \n",
              "  <svg xmlns=\"http://www.w3.org/2000/svg\" height=\"24px\"viewBox=\"0 0 24 24\"\n",
              "       width=\"24px\">\n",
              "    <path d=\"M0 0h24v24H0V0z\" fill=\"none\"/>\n",
              "    <path d=\"M18.56 5.44l.94 2.06.94-2.06 2.06-.94-2.06-.94-.94-2.06-.94 2.06-2.06.94zm-11 1L8.5 8.5l.94-2.06 2.06-.94-2.06-.94L8.5 2.5l-.94 2.06-2.06.94zm10 10l.94 2.06.94-2.06 2.06-.94-2.06-.94-.94-2.06-.94 2.06-2.06.94z\"/><path d=\"M17.41 7.96l-1.37-1.37c-.4-.4-.92-.59-1.43-.59-.52 0-1.04.2-1.43.59L10.3 9.45l-7.72 7.72c-.78.78-.78 2.05 0 2.83L4 21.41c.39.39.9.59 1.41.59.51 0 1.02-.2 1.41-.59l7.78-7.78 2.81-2.81c.8-.78.8-2.07 0-2.86zM5.41 20L4 18.59l7.72-7.72 1.47 1.35L5.41 20z\"/>\n",
              "  </svg>\n",
              "      </button>\n",
              "      \n",
              "  <style>\n",
              "    .colab-df-container {\n",
              "      display:flex;\n",
              "      flex-wrap:wrap;\n",
              "      gap: 12px;\n",
              "    }\n",
              "\n",
              "    .colab-df-convert {\n",
              "      background-color: #E8F0FE;\n",
              "      border: none;\n",
              "      border-radius: 50%;\n",
              "      cursor: pointer;\n",
              "      display: none;\n",
              "      fill: #1967D2;\n",
              "      height: 32px;\n",
              "      padding: 0 0 0 0;\n",
              "      width: 32px;\n",
              "    }\n",
              "\n",
              "    .colab-df-convert:hover {\n",
              "      background-color: #E2EBFA;\n",
              "      box-shadow: 0px 1px 2px rgba(60, 64, 67, 0.3), 0px 1px 3px 1px rgba(60, 64, 67, 0.15);\n",
              "      fill: #174EA6;\n",
              "    }\n",
              "\n",
              "    [theme=dark] .colab-df-convert {\n",
              "      background-color: #3B4455;\n",
              "      fill: #D2E3FC;\n",
              "    }\n",
              "\n",
              "    [theme=dark] .colab-df-convert:hover {\n",
              "      background-color: #434B5C;\n",
              "      box-shadow: 0px 1px 3px 1px rgba(0, 0, 0, 0.15);\n",
              "      filter: drop-shadow(0px 1px 2px rgba(0, 0, 0, 0.3));\n",
              "      fill: #FFFFFF;\n",
              "    }\n",
              "  </style>\n",
              "\n",
              "      <script>\n",
              "        const buttonEl =\n",
              "          document.querySelector('#df-619f47e3-b4e9-4984-a646-348808f011b7 button.colab-df-convert');\n",
              "        buttonEl.style.display =\n",
              "          google.colab.kernel.accessAllowed ? 'block' : 'none';\n",
              "\n",
              "        async function convertToInteractive(key) {\n",
              "          const element = document.querySelector('#df-619f47e3-b4e9-4984-a646-348808f011b7');\n",
              "          const dataTable =\n",
              "            await google.colab.kernel.invokeFunction('convertToInteractive',\n",
              "                                                     [key], {});\n",
              "          if (!dataTable) return;\n",
              "\n",
              "          const docLinkHtml = 'Like what you see? Visit the ' +\n",
              "            '<a target=\"_blank\" href=https://colab.research.google.com/notebooks/data_table.ipynb>data table notebook</a>'\n",
              "            + ' to learn more about interactive tables.';\n",
              "          element.innerHTML = '';\n",
              "          dataTable['output_type'] = 'display_data';\n",
              "          await google.colab.output.renderOutput(dataTable, element);\n",
              "          const docLink = document.createElement('div');\n",
              "          docLink.innerHTML = docLinkHtml;\n",
              "          element.appendChild(docLink);\n",
              "        }\n",
              "      </script>\n",
              "    </div>\n",
              "  </div>\n",
              "  "
            ]
          },
          "metadata": {},
          "execution_count": 143
        }
      ]
    },
    {
      "cell_type": "code",
      "source": [
        "from matplotlib import patches\n",
        "from scipy.spatial import ConvexHull\n",
        "import numpy as np\n",
        "import seaborn as sns\n",
        "import warnings; warnings.simplefilter('ignore')\n",
        "sns.set_style(\"white\")\n",
        "\n",
        "# Step 1: Prepare Data\n",
        "df = team_buying_df_grouped.toPandas() \n",
        "\n",
        "# As many colors as there are unique midwest['category']\n",
        "categories = np.unique(df['teamId'])\n",
        "colors = [plt.cm.tab10(i/float(len(categories)-1)) for i in range(len(categories))]\n",
        "\n",
        "# Step 2: Draw Scatterplot with unique color for each category\n",
        "fig = plt.figure(figsize=(16, 10), dpi= 80, facecolor='w', edgecolor='k')    \n",
        "\n",
        "\n",
        "# Step 3: Draw Scatterplot\n",
        "ax = sns.scatterplot(data=df, x=\"total_spending\", y=\"total_strength\", hue=\"teamId\",size=\"teamId\", legend=\"full\")\n",
        "\n",
        "\n",
        "\n",
        "# Step 3.1 : Set Legend\n",
        "# plt.setp(ax.get_legend().get_texts(), fontsize='7') # for legend text\n",
        "# plt.setp(ax.get_legend().get_title(), fontsize='7') # for legend title\n",
        "\n",
        "# Step 4: Decorations\n",
        "\n",
        "plt.xticks(fontsize=12); plt.yticks(fontsize=12)\n",
        "plt.xlabel(\"Team Spending\")\n",
        "plt.ylabel(\"Team Strength\")\n",
        "plt.legend(title='Team Ids', fontsize=7)\n",
        "\n",
        "plt.title(\"Scatter Plot of team total spending vs team strength\", fontsize=22)\n",
        "\n",
        "plt.show()    "
      ],
      "metadata": {
        "colab": {
          "base_uri": "https://localhost:8080/",
          "height": 697
        },
        "id": "kTR_I0ZSUgXn",
        "outputId": "f5ace7b6-6a73-4e22-ddc0-3f13295166e3"
      },
      "execution_count": 175,
      "outputs": [
        {
          "output_type": "display_data",
          "data": {
            "text/plain": [
              "<Figure size 1280x800 with 1 Axes>"
            ],
            "image/png": "[encoded data removed]"
          },
          "metadata": {}
        }
      ]
    },
    {
      "cell_type": "code",
      "source": [
        ""
      ],
      "metadata": {
        "id": "7izj4AmWdpXW"
      },
      "execution_count": null,
      "outputs": []
    },
    {
      "cell_type": "code",
      "execution_count": 28,
      "metadata": {
        "id": "u_UkE_ET9J7f",
        "colab": {
          "base_uri": "https://localhost:8080/"
        },
        "outputId": "49ee1fd6-362e-40e0-c52a-1707786965f8"
      },
      "outputs": [
        {
          "output_type": "stream",
          "name": "stdout",
          "text": [
            "Collecting pycountry_convert\n",
            "  Downloading pycountry_convert-0.7.2-py3-none-any.whl (13 kB)\n",
            "Requirement already satisfied: pytest>=3.4.0 in /usr/local/lib/python3.7/dist-packages (from pycountry_convert) (3.6.4)\n",
            "Collecting pytest-cov>=2.5.1\n",
            "  Downloading pytest_cov-3.0.0-py3-none-any.whl (20 kB)\n",
            "Requirement already satisfied: wheel>=0.30.0 in /usr/local/lib/python3.7/dist-packages (from pycountry_convert) (0.37.1)\n",
            "Collecting pytest-mock>=1.6.3\n",
            "  Downloading pytest_mock-3.7.0-py3-none-any.whl (12 kB)\n",
            "Collecting pprintpp>=0.3.0\n",
            "  Downloading pprintpp-0.4.0-py2.py3-none-any.whl (16 kB)\n",
            "Collecting repoze.lru>=0.7\n",
            "  Downloading repoze.lru-0.7-py3-none-any.whl (10 kB)\n",
            "Collecting pycountry>=16.11.27.1\n",
            "  Downloading pycountry-22.3.5.tar.gz (10.1 MB)\n",
            "\u001b[K     |████████████████████████████████| 10.1 MB 6.9 MB/s \n",
            "\u001b[?25h  Installing build dependencies ... \u001b[?25l\u001b[?25hdone\n",
            "  Getting requirements to build wheel ... \u001b[?25l\u001b[?25hdone\n",
            "    Preparing wheel metadata ... \u001b[?25l\u001b[?25hdone\n",
            "Requirement already satisfied: setuptools in /usr/local/lib/python3.7/dist-packages (from pycountry>=16.11.27.1->pycountry_convert) (57.4.0)\n",
            "Requirement already satisfied: attrs>=17.4.0 in /usr/local/lib/python3.7/dist-packages (from pytest>=3.4.0->pycountry_convert) (21.4.0)\n",
            "Requirement already satisfied: atomicwrites>=1.0 in /usr/local/lib/python3.7/dist-packages (from pytest>=3.4.0->pycountry_convert) (1.4.0)\n",
            "Requirement already satisfied: py>=1.5.0 in /usr/local/lib/python3.7/dist-packages (from pytest>=3.4.0->pycountry_convert) (1.11.0)\n",
            "Requirement already satisfied: more-itertools>=4.0.0 in /usr/local/lib/python3.7/dist-packages (from pytest>=3.4.0->pycountry_convert) (8.12.0)\n",
            "Requirement already satisfied: six>=1.10.0 in /usr/local/lib/python3.7/dist-packages (from pytest>=3.4.0->pycountry_convert) (1.15.0)\n",
            "Requirement already satisfied: pluggy<0.8,>=0.5 in /usr/local/lib/python3.7/dist-packages (from pytest>=3.4.0->pycountry_convert) (0.7.1)\n",
            "Collecting pytest>=3.4.0\n",
            "  Downloading pytest-7.1.2-py3-none-any.whl (297 kB)\n",
            "\u001b[K     |████████████████████████████████| 297 kB 59.1 MB/s \n",
            "\u001b[?25hCollecting coverage[toml]>=5.2.1\n",
            "  Downloading coverage-6.3.2-cp37-cp37m-manylinux_2_5_x86_64.manylinux1_x86_64.manylinux_2_17_x86_64.manylinux2014_x86_64.whl (207 kB)\n",
            "\u001b[K     |████████████████████████████████| 207 kB 58.8 MB/s \n",
            "\u001b[?25hRequirement already satisfied: tomli in /usr/local/lib/python3.7/dist-packages (from coverage[toml]>=5.2.1->pytest-cov>=2.5.1->pycountry_convert) (2.0.1)\n",
            "Requirement already satisfied: importlib-metadata>=0.12 in /usr/local/lib/python3.7/dist-packages (from pytest>=3.4.0->pycountry_convert) (4.11.3)\n",
            "Requirement already satisfied: packaging in /usr/local/lib/python3.7/dist-packages (from pytest>=3.4.0->pycountry_convert) (21.3)\n",
            "Collecting pytest>=3.4.0\n",
            "  Downloading pytest-7.1.1-py3-none-any.whl (297 kB)\n",
            "\u001b[K     |████████████████████████████████| 297 kB 49.2 MB/s \n",
            "\u001b[?25h  Downloading pytest-7.1.0-py3-none-any.whl (297 kB)\n",
            "\u001b[K     |████████████████████████████████| 297 kB 60.4 MB/s \n",
            "\u001b[?25h  Downloading pytest-7.0.1-py3-none-any.whl (296 kB)\n",
            "\u001b[K     |████████████████████████████████| 296 kB 60.9 MB/s \n",
            "\u001b[?25h  Downloading pytest-7.0.0-py3-none-any.whl (296 kB)\n",
            "\u001b[K     |████████████████████████████████| 296 kB 61.4 MB/s \n",
            "\u001b[?25h  Downloading pytest-6.2.5-py3-none-any.whl (280 kB)\n",
            "\u001b[K     |████████████████████████████████| 280 kB 60.2 MB/s \n",
            "\u001b[?25hCollecting toml\n",
            "  Downloading toml-0.10.2-py2.py3-none-any.whl (16 kB)\n",
            "Collecting pytest>=3.4.0\n",
            "  Downloading pytest-6.2.4-py3-none-any.whl (280 kB)\n",
            "\u001b[K     |████████████████████████████████| 280 kB 62.9 MB/s \n",
            "\u001b[?25h  Downloading pytest-6.2.3-py3-none-any.whl (280 kB)\n",
            "\u001b[K     |████████████████████████████████| 280 kB 58.2 MB/s \n",
            "\u001b[?25h  Downloading pytest-6.2.2-py3-none-any.whl (280 kB)\n",
            "\u001b[K     |████████████████████████████████| 280 kB 48.3 MB/s \n",
            "\u001b[?25h  Downloading pytest-6.2.1-py3-none-any.whl (279 kB)\n",
            "\u001b[K     |████████████████████████████████| 279 kB 60.8 MB/s \n",
            "\u001b[?25h  Downloading pytest-6.2.0-py3-none-any.whl (279 kB)\n",
            "\u001b[K     |████████████████████████████████| 279 kB 60.0 MB/s \n",
            "\u001b[?25h  Downloading pytest-6.1.2-py3-none-any.whl (272 kB)\n",
            "\u001b[K     |████████████████████████████████| 272 kB 61.3 MB/s \n",
            "\u001b[?25hRequirement already satisfied: iniconfig in /usr/local/lib/python3.7/dist-packages (from pytest>=3.4.0->pycountry_convert) (1.1.1)\n",
            "  Downloading pytest-6.1.1-py3-none-any.whl (272 kB)\n",
            "\u001b[K     |████████████████████████████████| 272 kB 53.5 MB/s \n",
            "\u001b[?25h  Downloading pytest-6.1.0-py3-none-any.whl (272 kB)\n",
            "\u001b[K     |████████████████████████████████| 272 kB 59.7 MB/s \n",
            "\u001b[?25h  Downloading pytest-6.0.2-py3-none-any.whl (270 kB)\n",
            "\u001b[K     |████████████████████████████████| 270 kB 62.0 MB/s \n",
            "\u001b[?25h  Downloading pytest-6.0.1-py3-none-any.whl (270 kB)\n",
            "\u001b[K     |████████████████████████████████| 270 kB 50.8 MB/s \n",
            "\u001b[?25h  Downloading pytest-6.0.0-py3-none-any.whl (270 kB)\n",
            "\u001b[K     |████████████████████████████████| 270 kB 60.9 MB/s \n",
            "\u001b[?25h  Downloading pytest-5.4.3-py3-none-any.whl (248 kB)\n",
            "\u001b[K     |████████████████████████████████| 248 kB 51.2 MB/s \n",
            "\u001b[?25hRequirement already satisfied: wcwidth in /usr/local/lib/python3.7/dist-packages (from pytest>=3.4.0->pycountry_convert) (0.2.5)\n",
            "  Downloading pytest-5.4.2-py3-none-any.whl (247 kB)\n",
            "\u001b[K     |████████████████████████████████| 247 kB 58.4 MB/s \n",
            "\u001b[?25h  Downloading pytest-5.4.1-py3-none-any.whl (246 kB)\n",
            "\u001b[K     |████████████████████████████████| 246 kB 60.4 MB/s \n",
            "\u001b[?25h  Downloading pytest-5.4.0-py3-none-any.whl (247 kB)\n",
            "\u001b[K     |████████████████████████████████| 247 kB 49.0 MB/s \n",
            "\u001b[?25h  Downloading pytest-5.3.5-py3-none-any.whl (235 kB)\n",
            "\u001b[K     |████████████████████████████████| 235 kB 73.9 MB/s \n",
            "\u001b[?25h  Downloading pytest-5.3.4-py3-none-any.whl (235 kB)\n",
            "\u001b[K     |████████████████████████████████| 235 kB 73.4 MB/s \n",
            "\u001b[?25h  Downloading pytest-5.3.3-py3-none-any.whl (235 kB)\n",
            "\u001b[K     |████████████████████████████████| 235 kB 73.4 MB/s \n",
            "\u001b[?25h  Downloading pytest-5.3.2-py3-none-any.whl (234 kB)\n",
            "\u001b[K     |████████████████████████████████| 234 kB 62.5 MB/s \n",
            "\u001b[?25h  Downloading pytest-5.3.1-py3-none-any.whl (233 kB)\n",
            "\u001b[K     |████████████████████████████████| 233 kB 61.0 MB/s \n",
            "\u001b[?25h  Downloading pytest-5.3.0-py3-none-any.whl (233 kB)\n",
            "\u001b[K     |████████████████████████████████| 233 kB 60.2 MB/s \n",
            "\u001b[?25h  Downloading pytest-5.2.4-py3-none-any.whl (227 kB)\n",
            "\u001b[K     |████████████████████████████████| 227 kB 45.0 MB/s \n",
            "\u001b[?25h  Downloading pytest-5.2.3-py3-none-any.whl (227 kB)\n",
            "\u001b[K     |████████████████████████████████| 227 kB 59.7 MB/s \n",
            "\u001b[?25h  Downloading pytest-5.2.2-py3-none-any.whl (227 kB)\n",
            "\u001b[K     |████████████████████████████████| 227 kB 51.1 MB/s \n",
            "\u001b[?25h  Downloading pytest-5.2.1-py3-none-any.whl (226 kB)\n",
            "\u001b[K     |████████████████████████████████| 226 kB 58.7 MB/s \n",
            "\u001b[?25h  Downloading pytest-5.2.0-py3-none-any.whl (226 kB)\n",
            "\u001b[K     |████████████████████████████████| 226 kB 59.1 MB/s \n",
            "\u001b[?25h  Downloading pytest-5.1.3-py3-none-any.whl (224 kB)\n",
            "\u001b[K     |████████████████████████████████| 224 kB 48.9 MB/s \n",
            "\u001b[?25h  Downloading pytest-5.1.2-py3-none-any.whl (224 kB)\n",
            "\u001b[K     |████████████████████████████████| 224 kB 77.9 MB/s \n",
            "\u001b[?25h  Downloading pytest-5.1.1-py3-none-any.whl (223 kB)\n",
            "\u001b[K     |████████████████████████████████| 223 kB 76.1 MB/s \n",
            "\u001b[?25h  Downloading pytest-5.1.0-py3-none-any.whl (223 kB)\n",
            "\u001b[K     |████████████████████████████████| 223 kB 23.5 MB/s \n",
            "\u001b[?25h  Downloading pytest-5.0.1-py3-none-any.whl (221 kB)\n",
            "\u001b[K     |████████████████████████████████| 221 kB 59.2 MB/s \n",
            "\u001b[?25h  Downloading pytest-5.0.0-py3-none-any.whl (221 kB)\n",
            "\u001b[K     |████████████████████████████████| 221 kB 59.5 MB/s \n",
            "\u001b[?25h  Downloading pytest-4.6.11-py2.py3-none-any.whl (231 kB)\n",
            "\u001b[K     |████████████████████████████████| 231 kB 57.7 MB/s \n",
            "\u001b[?25h  Downloading pytest-4.6.10-py2.py3-none-any.whl (231 kB)\n",
            "\u001b[K     |████████████████████████████████| 231 kB 55.0 MB/s \n",
            "\u001b[?25h  Downloading pytest-4.6.9-py2.py3-none-any.whl (231 kB)\n",
            "\u001b[K     |████████████████████████████████| 231 kB 79.9 MB/s \n",
            "\u001b[?25h  Downloading pytest-4.6.8-py2.py3-none-any.whl (230 kB)\n",
            "\u001b[K     |████████████████████████████████| 230 kB 78.0 MB/s \n",
            "\u001b[?25h  Downloading pytest-4.6.7-py2.py3-none-any.whl (230 kB)\n",
            "\u001b[K     |████████████████████████████████| 230 kB 77.2 MB/s \n",
            "\u001b[?25h  Downloading pytest-4.6.6-py2.py3-none-any.whl (230 kB)\n",
            "\u001b[K     |████████████████████████████████| 230 kB 73.0 MB/s \n",
            "\u001b[?25h  Downloading pytest-4.6.5-py2.py3-none-any.whl (230 kB)\n",
            "\u001b[K     |████████████████████████████████| 230 kB 72.9 MB/s \n",
            "\u001b[?25h  Downloading pytest-4.6.4-py2.py3-none-any.whl (229 kB)\n",
            "\u001b[K     |████████████████████████████████| 229 kB 60.0 MB/s \n",
            "\u001b[?25h  Downloading pytest-4.6.3-py2.py3-none-any.whl (229 kB)\n",
            "\u001b[K     |████████████████████████████████| 229 kB 59.1 MB/s \n",
            "\u001b[?25h  Downloading pytest-4.6.2-py2.py3-none-any.whl (229 kB)\n",
            "\u001b[K     |████████████████████████████████| 229 kB 57.2 MB/s \n",
            "\u001b[?25h  Downloading pytest-4.6.1-py2.py3-none-any.whl (229 kB)\n",
            "\u001b[K     |████████████████████████████████| 229 kB 60.9 MB/s \n",
            "\u001b[?25h  Downloading pytest-4.6.0-py2.py3-none-any.whl (229 kB)\n",
            "\u001b[K     |████████████████████████████████| 229 kB 59.3 MB/s \n",
            "\u001b[?25hINFO: pip is looking at multiple versions of coverage to determine which version is compatible with other requirements. This could take a while.\n",
            "INFO: pip is looking at multiple versions of coverage[toml] to determine which version is compatible with other requirements. This could take a while.\n",
            "Collecting coverage[toml]>=5.2.1\n",
            "  Downloading coverage-6.3.1-cp37-cp37m-manylinux_2_5_x86_64.manylinux1_x86_64.manylinux_2_17_x86_64.manylinux2014_x86_64.whl (207 kB)\n",
            "\u001b[K     |████████████████████████████████| 207 kB 59.1 MB/s \n",
            "\u001b[?25h  Downloading coverage-6.3-cp37-cp37m-manylinux_2_5_x86_64.manylinux1_x86_64.manylinux_2_17_x86_64.manylinux2014_x86_64.whl (207 kB)\n",
            "\u001b[K     |████████████████████████████████| 207 kB 50.6 MB/s \n",
            "\u001b[?25h  Downloading coverage-6.2-cp37-cp37m-manylinux_2_5_x86_64.manylinux1_x86_64.manylinux_2_12_x86_64.manylinux2010_x86_64.whl (213 kB)\n",
            "\u001b[K     |████████████████████████████████| 213 kB 41.4 MB/s \n",
            "\u001b[?25h  Downloading coverage-6.1.2-cp37-cp37m-manylinux_2_5_x86_64.manylinux1_x86_64.manylinux_2_12_x86_64.manylinux2010_x86_64.whl (213 kB)\n",
            "\u001b[K     |████████████████████████████████| 213 kB 59.3 MB/s \n",
            "\u001b[?25h  Downloading coverage-6.1.1-cp37-cp37m-manylinux_2_5_x86_64.manylinux1_x86_64.manylinux_2_12_x86_64.manylinux2010_x86_64.whl (213 kB)\n",
            "\u001b[K     |████████████████████████████████| 213 kB 57.0 MB/s \n",
            "\u001b[?25h  Downloading coverage-6.1-cp37-cp37m-manylinux_2_5_x86_64.manylinux1_x86_64.manylinux_2_12_x86_64.manylinux2010_x86_64.whl (213 kB)\n",
            "\u001b[K     |████████████████████████████████| 213 kB 73.2 MB/s \n",
            "\u001b[?25h  Downloading coverage-6.0.2-cp37-cp37m-manylinux_2_5_x86_64.manylinux1_x86_64.manylinux_2_12_x86_64.manylinux2010_x86_64.whl (253 kB)\n",
            "\u001b[K     |████████████████████████████████| 253 kB 73.0 MB/s \n",
            "\u001b[?25hINFO: pip is looking at multiple versions of coverage to determine which version is compatible with other requirements. This could take a while.\n",
            "INFO: pip is looking at multiple versions of coverage[toml] to determine which version is compatible with other requirements. This could take a while.\n",
            "  Downloading coverage-6.0.1-cp37-cp37m-manylinux_2_5_x86_64.manylinux1_x86_64.manylinux_2_12_x86_64.manylinux2010_x86_64.whl (252 kB)\n",
            "\u001b[K     |████████████████████████████████| 252 kB 66.2 MB/s \n",
            "\u001b[?25h  Downloading coverage-6.0-cp37-cp37m-manylinux_2_5_x86_64.manylinux1_x86_64.manylinux_2_12_x86_64.manylinux2010_x86_64.whl (252 kB)\n",
            "\u001b[K     |████████████████████████████████| 252 kB 63.7 MB/s \n",
            "\u001b[?25h  Downloading coverage-5.5-cp37-cp37m-manylinux2010_x86_64.whl (242 kB)\n",
            "\u001b[K     |████████████████████████████████| 242 kB 57.4 MB/s \n",
            "\u001b[?25h  Downloading coverage-5.4-cp37-cp37m-manylinux2010_x86_64.whl (242 kB)\n",
            "\u001b[K     |████████████████████████████████| 242 kB 50.7 MB/s \n",
            "\u001b[?25h  Downloading coverage-5.3.1-cp37-cp37m-manylinux2010_x86_64.whl (242 kB)\n",
            "\u001b[K     |████████████████████████████████| 242 kB 59.6 MB/s \n",
            "\u001b[?25hINFO: This is taking longer than usual. You might need to provide the dependency resolver with stricter constraints to reduce runtime. If you want to abort this run, you can press Ctrl + C to do so. To improve how pip performs, tell us what happened here: https://pip.pypa.io/surveys/backtracking\n",
            "INFO: This is taking longer than usual. You might need to provide the dependency resolver with stricter constraints to reduce runtime. If you want to abort this run, you can press Ctrl + C to do so. To improve how pip performs, tell us what happened here: https://pip.pypa.io/surveys/backtracking\n",
            "  Downloading coverage-5.3-cp37-cp37m-manylinux1_x86_64.whl (229 kB)\n",
            "\u001b[K     |████████████████████████████████| 229 kB 59.4 MB/s \n",
            "\u001b[?25h  Downloading coverage-5.2.1-cp37-cp37m-manylinux1_x86_64.whl (229 kB)\n",
            "\u001b[K     |████████████████████████████████| 229 kB 59.3 MB/s \n",
            "\u001b[?25hINFO: pip is looking at multiple versions of pytest-cov to determine which version is compatible with other requirements. This could take a while.\n",
            "Collecting pytest-cov>=2.5.1\n",
            "  Downloading pytest_cov-2.12.1-py2.py3-none-any.whl (20 kB)\n",
            "  Downloading pytest_cov-2.12.0-py2.py3-none-any.whl (20 kB)\n",
            "  Downloading pytest_cov-2.11.1-py2.py3-none-any.whl (20 kB)\n",
            "  Downloading pytest_cov-2.11.0-py2.py3-none-any.whl (20 kB)\n",
            "  Downloading pytest_cov-2.10.1-py2.py3-none-any.whl (19 kB)\n",
            "Collecting coverage>=4.4\n",
            "  Downloading coverage-5.2-cp37-cp37m-manylinux1_x86_64.whl (229 kB)\n",
            "\u001b[K     |████████████████████████████████| 229 kB 65.3 MB/s \n",
            "\u001b[?25h  Downloading coverage-5.1-cp37-cp37m-manylinux1_x86_64.whl (227 kB)\n",
            "\u001b[K     |████████████████████████████████| 227 kB 64.5 MB/s \n",
            "\u001b[?25h  Downloading coverage-5.0.4-cp37-cp37m-manylinux1_x86_64.whl (227 kB)\n",
            "\u001b[K     |████████████████████████████████| 227 kB 62.3 MB/s \n",
            "\u001b[?25h  Downloading coverage-5.0.3-cp37-cp37m-manylinux1_x86_64.whl (227 kB)\n",
            "\u001b[K     |████████████████████████████████| 227 kB 61.4 MB/s \n",
            "\u001b[?25h  Downloading coverage-5.0.2-cp37-cp37m-manylinux1_x86_64.whl (226 kB)\n",
            "\u001b[K     |████████████████████████████████| 226 kB 1.0 MB/s \n",
            "\u001b[?25h  Downloading coverage-5.0.1-cp37-cp37m-manylinux1_x86_64.whl (226 kB)\n",
            "\u001b[K     |████████████████████████████████| 226 kB 44.5 MB/s \n",
            "\u001b[?25h  Downloading coverage-5.0-cp37-cp37m-manylinux1_x86_64.whl (226 kB)\n",
            "\u001b[K     |████████████████████████████████| 226 kB 61.0 MB/s \n",
            "\u001b[?25h  Downloading coverage-4.5.4-cp37-cp37m-manylinux1_x86_64.whl (205 kB)\n",
            "\u001b[K     |████████████████████████████████| 205 kB 62.1 MB/s \n",
            "\u001b[?25h  Downloading coverage-4.5.3-cp37-cp37m-manylinux1_x86_64.whl (204 kB)\n",
            "\u001b[K     |████████████████████████████████| 204 kB 52.3 MB/s \n",
            "\u001b[?25h  Downloading coverage-4.5.2-cp37-cp37m-manylinux1_x86_64.whl (205 kB)\n",
            "\u001b[K     |████████████████████████████████| 205 kB 59.2 MB/s \n",
            "\u001b[?25h  Downloading coverage-4.5.1-cp37-cp37m-manylinux1_x86_64.whl (202 kB)\n",
            "\u001b[K     |████████████████████████████████| 202 kB 45.3 MB/s \n",
            "\u001b[?25h  Downloading coverage-4.5.tar.gz (378 kB)\n",
            "\u001b[K     |████████████████████████████████| 378 kB 61.6 MB/s \n",
            "\u001b[?25h  Downloading coverage-4.4.2.tar.gz (374 kB)\n",
            "\u001b[K     |████████████████████████████████| 374 kB 50.0 MB/s \n",
            "\u001b[?25h  Downloading coverage-4.4.1.tar.gz (369 kB)\n",
            "\u001b[K     |████████████████████████████████| 369 kB 58.8 MB/s \n",
            "\u001b[?25h  Downloading coverage-4.4.tar.gz (369 kB)\n",
            "\u001b[K     |████████████████████████████████| 369 kB 55.4 MB/s \n",
            "\u001b[?25hCollecting pytest-cov>=2.5.1\n",
            "  Downloading pytest_cov-2.10.0-py2.py3-none-any.whl (19 kB)\n",
            "  Downloading pytest_cov-2.9.0-py2.py3-none-any.whl (19 kB)\n",
            "INFO: pip is looking at multiple versions of pytest-mock to determine which version is compatible with other requirements. This could take a while.\n",
            "Collecting pytest-mock>=1.6.3\n",
            "  Downloading pytest_mock-3.6.1-py3-none-any.whl (12 kB)\n",
            "  Downloading pytest_mock-3.6.0-py3-none-any.whl (12 kB)\n",
            "  Downloading pytest_mock-3.5.1-py3-none-any.whl (12 kB)\n",
            "  Downloading pytest_mock-3.5.0-py3-none-any.whl (12 kB)\n",
            "  Downloading pytest_mock-3.4.0-py3-none-any.whl (11 kB)\n",
            "  Downloading pytest_mock-3.3.1-py3-none-any.whl (11 kB)\n",
            "  Downloading pytest_mock-3.3.0-py3-none-any.whl (11 kB)\n",
            "INFO: pip is looking at multiple versions of pytest-mock to determine which version is compatible with other requirements. This could take a while.\n",
            "  Downloading pytest_mock-3.2.0-py3-none-any.whl (10 kB)\n",
            "Building wheels for collected packages: pycountry\n",
            "  Building wheel for pycountry (PEP 517) ... \u001b[?25l\u001b[?25hdone\n",
            "  Created wheel for pycountry: filename=pycountry-22.3.5-py2.py3-none-any.whl size=10681845 sha256=dc9f34a917a98448035d84561de3d7e90339150905432bef8fb0ff3aa2de4af2\n",
            "  Stored in directory: /root/.cache/pip/wheels/0e/06/e8/7ee176e95ea9a8a8c3b3afcb1869f20adbd42413d4611c6eb4\n",
            "Successfully built pycountry\n",
            "Installing collected packages: coverage, repoze.lru, pytest-mock, pytest-cov, pycountry, pprintpp, pycountry-convert\n",
            "  Attempting uninstall: coverage\n",
            "    Found existing installation: coverage 3.7.1\n",
            "    Uninstalling coverage-3.7.1:\n",
            "      Successfully uninstalled coverage-3.7.1\n",
            "\u001b[31mERROR: pip's dependency resolver does not currently take into account all the packages that are installed. This behaviour is the source of the following dependency conflicts.\n",
            "datascience 0.10.6 requires coverage==3.7.1, but you have coverage 6.3.2 which is incompatible.\n",
            "datascience 0.10.6 requires folium==0.2.1, but you have folium 0.8.3 which is incompatible.\n",
            "coveralls 0.5 requires coverage<3.999,>=3.6, but you have coverage 6.3.2 which is incompatible.\u001b[0m\n",
            "Successfully installed coverage-6.3.2 pprintpp-0.4.0 pycountry-22.3.5 pycountry-convert-0.7.2 pytest-cov-2.9.0 pytest-mock-3.2.0 repoze.lru-0.7\n"
          ]
        }
      ],
      "source": [
        "!pip install pycountry_convert "
      ]
    },
    {
      "cell_type": "code",
      "source": [
        "##############  TEAMS SPENDING LOLLIPOP GRAPH\n",
        "\n",
        "\n",
        "# libraries\n",
        "import numpy as np\n",
        "import pandas as pd\n",
        "import matplotlib.pyplot as plt\n",
        " \n",
        "\n",
        "# Step 1: Prepare Data\n",
        "df = team_buying_df_grouped.toPandas() \n",
        " \n",
        "# Reorder it based on values:\n",
        "ordered_df = df.sort_values(by='total_spending')\n",
        "my_range=range(1,len(df.index)+1)\n",
        "\n",
        " # Create a color if the group is \"B\"\n",
        "my_color=np.where(ordered_df['total_spending']==ordered_df['total_spending'].max(), 'orange', 'skyblue')\n",
        "my_size=np.where(ordered_df['total_spending']==ordered_df['total_spending'].max() , 70, 30)\n",
        "\n",
        "\n",
        "fig = plt.figure(figsize=(16, 10), dpi= 80, facecolor='w', edgecolor='k')    \n",
        "\n",
        "# The horizontal plot is made using the hline() function\n",
        "plt.hlines(y=my_range, xmin=0, xmax=ordered_df['total_spending'], color=my_color, alpha=0.4)\n",
        "\n",
        "plt.scatter(ordered_df['total_spending'], my_range, color=my_color, s=my_size, alpha=1)\n",
        "\n",
        "# Add title and axis names\n",
        "plt.yticks(my_range, ordered_df['teamId'])\n",
        "plt.title(\"Team With Highest Spendings\", loc='left')\n",
        "plt.xlabel('Team Spendings')\n",
        "plt.ylabel('Team Id')\n",
        "\n",
        "# show the graph\n",
        "plt.show()"
      ],
      "metadata": {
        "colab": {
          "base_uri": "https://localhost:8080/",
          "height": 685
        },
        "id": "iTK77xnWd8CB",
        "outputId": "e024aa27-1d97-469d-88aa-377bde89547f"
      },
      "execution_count": 186,
      "outputs": [
        {
          "output_type": "display_data",
          "data": {
            "text/plain": [
              "<Figure size 1280x800 with 1 Axes>"
            ],
            "image/png": "[encoded data removed]"
          },
          "metadata": {}
        }
      ]
    },
    {
      "cell_type": "code",
      "execution_count": 29,
      "metadata": {
        "id": "OP8d24wo7j5e"
      },
      "outputs": [],
      "source": [
        "############# TEAM SPENDING WITH AGE GROUP\n",
        "team_user_buying_df = team_buying_df.alias(\"team_buying_df\").join(users_df.alias(\"users_df\"),\\\n",
        "                           f.col(\"team_buying_df.userId\") == f.col(\"users_df.userId\"),\"inner\")"
      ]
    },
    {
      "cell_type": "code",
      "execution_count": 30,
      "metadata": {
        "id": "wjWaSFGp9UVv",
        "colab": {
          "base_uri": "https://localhost:8080/"
        },
        "outputId": "1cdaee97-2547-4f4e-844f-45dfa696b7f3"
      },
      "outputs": [
        {
          "output_type": "stream",
          "name": "stdout",
          "text": [
            "+------+-----------+-------------------+-------------------+---------------+------------+-------------------+----+-------------+----+------+-----+-----+-------------------+------+----------+----------+----------+-------+-------------+\n",
            "|teamId|       name|   teamCreationTime|        teamEndTime|       strength|currentLevel|          timestamp|txId|userSessionId|team|userId|buyId|price|          timestamp|userId|      nick|   twitter|       dob|country|    continent|\n",
            "+------+-----------+-------------------+-------------------+---------------+------------+-------------------+----+-------------+----+------+-----+-----+-------------------+------+----------+----------+----------+-------+-------------+\n",
            "|     9|  pDG2bAh8T|2016-06-13 17:39:55|9999-12-31 23:59:59| 0.952175553216|           1|2016-05-26 15:36:54|6004|         5820|   9|  1300|    2|  3.0|2013-12-01 09:30:47|  1300|   2hh0NNM|  @RY1URF2|1998-05-06|     GR|       Europe|\n",
            "|    35|b3PqpjmZ6TT|2016-06-14 02:08:07|9999-12-31 23:59:59| 0.836061494696|           1|2016-05-26 15:36:54|6005|         5775|  35|   868|    4| 10.0|2016-06-02 03:34:07|   868|    aS4OMV| @vVu0R8P1|1984-06-01|     CX|         Asia|\n",
            "|    97|     LjcMqQ|2016-06-14 09:53:46|9999-12-31 23:59:59| 0.340788463107|           1|2016-05-26 15:36:54|6006|         5679|  97|   819|    5| 20.0|2013-04-20 12:40:52|   819|  xtzD469v|  @RempL28|1979-11-02|     AR|South America|\n",
            "|    18|  VpF5Lrtz7|2016-06-13 12:23:36|9999-12-31 23:59:59| 0.885469892018|           1|2016-05-26 16:36:54|6067|         5665|  18|   121|    2|  3.0|2015-07-19 00:29:29|   121|  gzrwXVUd|  @4MNadvF|1964-10-04|     UY|South America|\n",
            "|    11|R5SYibpiHpE|2016-06-15 05:38:15|9999-12-31 23:59:59|0.0495931577569|           1|2016-05-26 17:06:54|6093|         5709|  11|  2222|    5| 20.0|2016-04-30 16:05:51|  2222|  hYk0fs5a|  @9IdVVDV|1974-03-03|     BF|       Africa|\n",
            "|    77|   U96mANQ8|2016-06-16 10:00:06|9999-12-31 23:59:59| 0.793839493486|           1|2016-05-26 17:06:54|6094|         5798|  77|  1304|    5| 20.0|2013-08-23 19:32:47|  1304|   xv4Csoi|@6WZbE0bme|1996-04-26|     AQ|         None|\n",
            "|     9|  pDG2bAh8T|2016-06-13 17:39:55|9999-12-31 23:59:59| 0.952175553216|           1|2016-05-26 18:06:54|6155|         5920|   9|  1027|    5| 20.0|2014-01-31 04:55:04|  1027|  BtEYpQcB|  @gU6A6AB|1956-07-04|     GD|North America|\n",
            "|    35|b3PqpjmZ6TT|2016-06-14 02:08:07|9999-12-31 23:59:59| 0.836061494696|           1|2016-05-26 18:06:54|6156|         5697|  35|  2199|    2|  3.0|2014-08-26 05:19:22|  2199|    JBPZZb|@u6yOOu0vJ|1989-02-24|     HR|       Europe|\n",
            "|    64|gjaVPd9DE2P|2016-06-15 03:44:35|9999-12-31 23:59:59| 0.406089913506|           1|2016-05-26 18:36:54|6183|         5893|  64|  1544|    5| 20.0|2015-05-28 20:57:48|  1544|   YiTBCKk|  @7X7lBXy|1990-09-08|     AI|North America|\n",
            "|    35|b3PqpjmZ6TT|2016-06-14 02:08:07|9999-12-31 23:59:59| 0.836061494696|           1|2016-05-26 18:36:54|6184|         5697|  35|  2199|    1|  2.0|2014-08-26 05:19:22|  2199|    JBPZZb|@u6yOOu0vJ|1989-02-24|     HR|       Europe|\n",
            "|    13|   cz8t6Wli|2016-06-16 08:54:54|9999-12-31 23:59:59| 0.885665267397|           1|2016-05-26 19:36:54|6243|         5659|  13|  1623|    4| 10.0|2013-11-30 20:39:19|  1623|    L6fCuA|    @EIqID|1947-11-02|     SV|North America|\n",
            "|     9|  pDG2bAh8T|2016-06-13 17:39:55|9999-12-31 23:59:59| 0.952175553216|           1|2016-05-26 19:36:54|6244|         5920|   9|  1027|    3|  5.0|2014-01-31 04:55:04|  1027|  BtEYpQcB|  @gU6A6AB|1956-07-04|     GD|North America|\n",
            "|    27|    87oPQXq|2016-06-14 16:24:14|9999-12-31 23:59:59| 0.141376627543|           1|2016-05-26 20:06:54|6269|         5785|  27|  1065|    5| 20.0|2012-07-20 10:20:22|  1065|    hOs5Cp|  @DFkyp5o|1992-07-26|     SM|       Europe|\n",
            "|    63|    eJWo4Fd|2016-06-15 22:52:38|9999-12-31 23:59:59| 0.659738471721|           1|2016-05-26 20:06:54|6270|         5661|  63|    83|    3|  5.0|2015-06-29 09:10:33|    83|yswe05OJem|    @2TIpG|1987-09-04|     GF|South America|\n",
            "|     9|  pDG2bAh8T|2016-06-13 17:39:55|9999-12-31 23:59:59| 0.952175553216|           1|2016-05-26 20:06:54|6271|         5706|   9|  1652|    0|  1.0|2014-03-30 02:59:53|  1652| lwGwd4ZVy|   @D6QUot|1960-07-11|     UG|       Africa|\n",
            "|     2|ef8SlZSnjqq|2016-06-14 07:23:05|9999-12-31 23:59:59| 0.146636553695|           1|2016-05-26 20:36:54|6292|         5921|   2|   518|    0|  1.0|2013-06-08 15:58:33|   518|   dui0qxE|  @7PTvD7P|1993-08-11|     ZA|       Africa|\n",
            "|    57|     zu8iuz|2016-06-15 17:50:52|9999-12-31 23:59:59|0.0859900712952|           1|2016-05-26 21:06:54|6327|         5860|  57|  2221|    5| 20.0|2016-04-22 20:59:23|  2221|   C4PhXaQ|   @htgJEK|1984-10-30|     BE|       Europe|\n",
            "|    32|    lFjyoVh|2016-06-13 14:51:16|9999-12-31 23:59:59| 0.276723269022|           1|2016-05-26 22:06:54|6394|         6088|  32|  1815|    2|  3.0|2013-01-09 09:30:33|  1815| j8d2xUcpY| @E2hJQ5CK|1988-11-28|     DE|       Europe|\n",
            "|    35|b3PqpjmZ6TT|2016-06-14 02:08:07|9999-12-31 23:59:59| 0.836061494696|           1|2016-05-26 22:06:54|6395|         5880|  35|  2146|    1|  2.0|2015-01-20 08:10:56|  2146|   F2u9T9T|@C0nXs4GX0|1967-06-14|     SV|North America|\n",
            "|    77|   U96mANQ8|2016-06-16 10:00:06|9999-12-31 23:59:59| 0.793839493486|           1|2016-05-26 22:36:54|6411|         6230|  77|  1457|    0|  1.0|2016-01-06 06:49:52|  1457|    AV186d|@lZ8bJ2za2|1960-04-10|     CC|         Asia|\n",
            "+------+-----------+-------------------+-------------------+---------------+------------+-------------------+----+-------------+----+------+-----+-----+-------------------+------+----------+----------+----------+-------+-------------+\n",
            "only showing top 20 rows\n",
            "\n"
          ]
        }
      ],
      "source": [
        "import pycountry_convert as pc\n",
        "from pyspark.sql.types import StringType\n",
        "\n",
        "\n",
        "\n",
        "def country_to_continent(country_name):\n",
        "  try:\n",
        "    country_continent_code = pc.country_alpha2_to_continent_code(country_name)\n",
        "    country_continent_name = pc.convert_continent_code_to_continent_name(country_continent_code)\n",
        "    return country_continent_name\n",
        "  except:\n",
        "    return \"None\"\n",
        "\n",
        "\n",
        "\n",
        "\n",
        "\n",
        "udf_country_to_continent = f.udf(country_to_continent , StringType())\n",
        "team_user_buying_df = team_user_buying_df.withColumn(\"continent\", udf_country_to_continent(f.col(\"country\") ))\n",
        "\n",
        "\n",
        "\n",
        "team_user_buying_df.show()"
      ]
    },
    {
      "cell_type": "code",
      "execution_count": 85,
      "metadata": {
        "id": "CGp8dBV9JK_Q",
        "colab": {
          "base_uri": "https://localhost:8080/"
        },
        "outputId": "a0acf74b-a5c9-4c72-e8ea-3d1bfb3f11b6"
      },
      "outputs": [
        {
          "output_type": "stream",
          "name": "stdout",
          "text": [
            "+-------------+--------------+------------------+---------+---------+-------+------------------+\n",
            "|    continent|spending_count|         price_avg|price_min|price_max|  total|           Percent|\n",
            "+-------------+--------------+------------------+---------+---------+-------+------------------+\n",
            "|         None|         684.0|              11.4|      1.0|     20.0|16576.0| 4.126447876447877|\n",
            "|       Europe|        2974.0| 7.548223350253807|      1.0|     20.0|16576.0|17.941602316602317|\n",
            "|       Africa|        3889.0| 7.282771535580524|      1.0|     20.0|16576.0|23.461631274131275|\n",
            "|North America|        2726.0| 7.593314763231198|      1.0|     20.0|16576.0|16.445463320463322|\n",
            "|   Antarctica|          51.0|             2.125|      1.0|     10.0|16576.0|0.3076737451737452|\n",
            "|South America|        1416.0|10.114285714285714|      1.0|     20.0|16576.0| 8.542471042471043|\n",
            "|      Oceania|        1410.0| 5.802469135802469|      1.0|     20.0|16576.0|  8.50627413127413|\n",
            "|         Asia|        3426.0| 6.704500978473582|      1.0|     20.0|16576.0|20.668436293436294|\n",
            "+-------------+--------------+------------------+---------+---------+-------+------------------+\n",
            "\n"
          ]
        }
      ],
      "source": [
        "from pyspark.sql import Window\n",
        "from pyspark.sql.functions import rank,sum,col\n",
        "\n",
        "\n",
        "window = Window.rowsBetween(Window.unboundedPreceding,Window.unboundedFollowing)\n",
        "\n",
        "team_user_buying_df_stat = team_user_buying_df.groupby(\"continent\").agg(f.sum('price').alias('spending_count'),\n",
        "                                        f.mean('price').alias('price_avg'),\n",
        "                                        f.min('price').alias('price_min'),\n",
        "                                        f.max('price').alias('price_max')).\\\n",
        "   withColumn('total',sum(f.col('spending_count')).over(window)).\\\n",
        "   withColumn('Percent',f.col('spending_count')*100/f.col('total'))\n",
        "\n",
        "team_user_buying_df_stat.show()"
      ]
    },
    {
      "cell_type": "code",
      "source": [
        "!pip install squarify \n"
      ],
      "metadata": {
        "colab": {
          "base_uri": "https://localhost:8080/"
        },
        "id": "Nzkuyrdrtjl0",
        "outputId": "d859b5b9-c292-494e-87d7-082e81337e68"
      },
      "execution_count": 32,
      "outputs": [
        {
          "output_type": "stream",
          "name": "stdout",
          "text": [
            "Collecting squarify\n",
            "  Downloading squarify-0.4.3-py3-none-any.whl (4.3 kB)\n",
            "Installing collected packages: squarify\n",
            "Successfully installed squarify-0.4.3\n"
          ]
        }
      ]
    },
    {
      "cell_type": "code",
      "source": [
        "!pip install pywaffle"
      ],
      "metadata": {
        "colab": {
          "base_uri": "https://localhost:8080/"
        },
        "id": "8CgnD3m34Gue",
        "outputId": "5a88e051-3c25-4b63-feef-ba65305dedf1"
      },
      "execution_count": 33,
      "outputs": [
        {
          "output_type": "stream",
          "name": "stdout",
          "text": [
            "Collecting pywaffle\n",
            "  Downloading pywaffle-0.6.4-py2.py3-none-any.whl (565 kB)\n",
            "\u001b[K     |████████████████████████████████| 565 kB 1.6 MB/s \n",
            "\u001b[?25hRequirement already satisfied: matplotlib in /usr/local/lib/python3.7/dist-packages (from pywaffle) (3.2.2)\n",
            "Requirement already satisfied: kiwisolver>=1.0.1 in /usr/local/lib/python3.7/dist-packages (from matplotlib->pywaffle) (1.4.2)\n",
            "Requirement already satisfied: pyparsing!=2.0.4,!=2.1.2,!=2.1.6,>=2.0.1 in /usr/local/lib/python3.7/dist-packages (from matplotlib->pywaffle) (3.0.8)\n",
            "Requirement already satisfied: python-dateutil>=2.1 in /usr/local/lib/python3.7/dist-packages (from matplotlib->pywaffle) (2.8.2)\n",
            "Requirement already satisfied: numpy>=1.11 in /usr/local/lib/python3.7/dist-packages (from matplotlib->pywaffle) (1.21.6)\n",
            "Requirement already satisfied: cycler>=0.10 in /usr/local/lib/python3.7/dist-packages (from matplotlib->pywaffle) (0.11.0)\n",
            "Requirement already satisfied: typing-extensions in /usr/local/lib/python3.7/dist-packages (from kiwisolver>=1.0.1->matplotlib->pywaffle) (4.2.0)\n",
            "Requirement already satisfied: six>=1.5 in /usr/local/lib/python3.7/dist-packages (from python-dateutil>=2.1->matplotlib->pywaffle) (1.15.0)\n",
            "Installing collected packages: pywaffle\n",
            "Successfully installed pywaffle-0.6.4\n"
          ]
        }
      ]
    },
    {
      "cell_type": "code",
      "source": [
        "import matplotlib.pyplot as plt\n",
        "import squarify    # pip install squarify (algorithm for treemap)\n",
        "import pandas as pd\n",
        "\n",
        "\n",
        "# Get dataframe continent & Percent columns as list\n",
        "labels = list(team_user_buying_df_stat.toPandas()[\"continent\"])\n",
        "sizes =  list(team_user_buying_df_stat.toPandas()[\"Percent\"])\n",
        "\n",
        "# select colors\n",
        "colors = [plt.cm.Spectral(i/float(len(labels))) for i in range(len(labels))]\n",
        "# plot it\n",
        "plt.figure(figsize=(12,8), dpi= 80)\n",
        "squarify.plot(sizes=sizes, label=labels, color=colors ,alpha=.8 )\n",
        "plt.title('Treemap of high total purchase continents')\n",
        "plt.axis('off')\n",
        "plt.show()"
      ],
      "metadata": {
        "colab": {
          "base_uri": "https://localhost:8080/",
          "height": 532
        },
        "id": "xeXsbP4Z2ks3",
        "outputId": "4c9c8b2a-b2d5-4b65-d0a6-67eecced8868"
      },
      "execution_count": 62,
      "outputs": [
        {
          "output_type": "display_data",
          "data": {
            "text/plain": [
              "<Figure size 960x640 with 1 Axes>"
            ],
            "image/png": "[encoded data removed]"
          },
          "metadata": {
            "needs_background": "light"
          }
        }
      ]
    },
    {
      "cell_type": "code",
      "execution_count": 63,
      "metadata": {
        "id": "GB1ETy8gMTEY",
        "colab": {
          "base_uri": "https://localhost:8080/"
        },
        "outputId": "68b3fec5-c4fd-4908-9ba4-31c2077ea1a2"
      },
      "outputs": [
        {
          "output_type": "stream",
          "name": "stdout",
          "text": [
            "+-------------+--------------+------------------+---------+---------+-------+------------------+\n",
            "|    continent|spending_count|         price_avg|price_min|price_max|  total|           Percent|\n",
            "+-------------+--------------+------------------+---------+---------+-------+------------------+\n",
            "|         None|         684.0|              11.4|      1.0|     20.0|16576.0| 4.126447876447877|\n",
            "|       Europe|        2974.0| 7.548223350253807|      1.0|     20.0|16576.0|17.941602316602317|\n",
            "|       Africa|        3889.0| 7.282771535580524|      1.0|     20.0|16576.0|23.461631274131275|\n",
            "|North America|        2726.0| 7.593314763231198|      1.0|     20.0|16576.0|16.445463320463322|\n",
            "|   Antarctica|          51.0|             2.125|      1.0|     10.0|16576.0|0.3076737451737452|\n",
            "|South America|        1416.0|10.114285714285714|      1.0|     20.0|16576.0| 8.542471042471043|\n",
            "|      Oceania|        1410.0| 5.802469135802469|      1.0|     20.0|16576.0|  8.50627413127413|\n",
            "|         Asia|        3426.0| 6.704500978473582|      1.0|     20.0|16576.0|20.668436293436294|\n",
            "+-------------+--------------+------------------+---------+---------+-------+------------------+\n",
            "\n"
          ]
        }
      ],
      "source": [
        "team_user_buying_df_stat.show()"
      ]
    },
    {
      "cell_type": "code",
      "source": [
        ""
      ],
      "metadata": {
        "id": "j4_5C6Qj5Uf6"
      },
      "execution_count": null,
      "outputs": []
    },
    {
      "cell_type": "code",
      "execution_count": 36,
      "metadata": {
        "id": "xg9w7DzNI8d4",
        "colab": {
          "base_uri": "https://localhost:8080/",
          "height": 466
        },
        "outputId": "7742b868-e099-4855-d88d-39edf5786dbf"
      },
      "outputs": [
        {
          "output_type": "display_data",
          "data": {
            "text/plain": [
              "<Figure size 720x576 with 1 Axes>"
            ],
            "image/png": "[encoded data removed]"
          },
          "metadata": {}
        }
      ],
      "source": [
        "from re import X\n",
        "\n",
        "######### PLOT PIE GRAPH OF HIGH SPENDING CONTINENTS\n",
        "import matplotlib.pyplot as plt\n",
        "import seaborn as sns\n",
        "\n",
        "\n",
        "labels = list(team_user_buying_df_stat.toPandas()[\"continent\"])\n",
        "sizes =  list(team_user_buying_df_stat.toPandas()[\"Percent\"])\n",
        "\n",
        "\n",
        "colors = ['gold', 'yellowgreen', 'lightcoral','blue', 'lightskyblue','green','red', \"brown\"]\n",
        "# explode = tuple( if X == 0 else x=0 for x in range(len(labels)) ) \n",
        "\n",
        "max = 0\n",
        "for i in sizes:\n",
        "  if max< i:\n",
        "    max = i\n",
        "  \n",
        "\n",
        "explode = list(0 for _ in sizes)\n",
        "\n",
        "explode[sizes.index(max)]  = 0.1\n",
        "\n",
        "# 0, 0.1, 0, 0,0,0\n",
        "# Plot\n",
        "plt.figure(figsize=(10,8))\n",
        "plt.pie(sizes,explode = explode, labels=labels, colors=colors,\n",
        "        autopct='%1.1f%%', shadow=True, startangle=140)\n",
        "\n",
        "plt.axis('equal')\n",
        "plt.show()"
      ]
    },
    {
      "cell_type": "code",
      "source": [
        "!pip install pywaffle"
      ],
      "metadata": {
        "colab": {
          "base_uri": "https://localhost:8080/"
        },
        "id": "FQNfpPDM5Ww9",
        "outputId": "c52d6984-cd77-470a-aba4-5d6c1e6ef7a2"
      },
      "execution_count": 40,
      "outputs": [
        {
          "output_type": "stream",
          "name": "stdout",
          "text": [
            "Requirement already satisfied: pywaffle in /usr/local/lib/python3.7/dist-packages (0.6.4)\n",
            "Requirement already satisfied: matplotlib in /usr/local/lib/python3.7/dist-packages (from pywaffle) (3.2.2)\n",
            "Requirement already satisfied: python-dateutil>=2.1 in /usr/local/lib/python3.7/dist-packages (from matplotlib->pywaffle) (2.8.2)\n",
            "Requirement already satisfied: numpy>=1.11 in /usr/local/lib/python3.7/dist-packages (from matplotlib->pywaffle) (1.21.6)\n",
            "Requirement already satisfied: cycler>=0.10 in /usr/local/lib/python3.7/dist-packages (from matplotlib->pywaffle) (0.11.0)\n",
            "Requirement already satisfied: kiwisolver>=1.0.1 in /usr/local/lib/python3.7/dist-packages (from matplotlib->pywaffle) (1.4.2)\n",
            "Requirement already satisfied: pyparsing!=2.0.4,!=2.1.2,!=2.1.6,>=2.0.1 in /usr/local/lib/python3.7/dist-packages (from matplotlib->pywaffle) (3.0.8)\n",
            "Requirement already satisfied: typing-extensions in /usr/local/lib/python3.7/dist-packages (from kiwisolver>=1.0.1->matplotlib->pywaffle) (4.2.0)\n",
            "Requirement already satisfied: six>=1.5 in /usr/local/lib/python3.7/dist-packages (from python-dateutil>=2.1->matplotlib->pywaffle) (1.15.0)\n"
          ]
        }
      ]
    },
    {
      "cell_type": "code",
      "source": [
        "from pywaffle import Waffle\n",
        "import matplotlib.pyplot as plt\n",
        "\n",
        "\n",
        "labels = list(team_user_buying_df_stat.toPandas()[\"continent\"])\n",
        "sizes =  list(team_user_buying_df_stat.toPandas()[\"Percent\"])\n",
        "\n",
        "df = team_user_buying_df_stat.toPandas()\n",
        "n_categories = df.shape[0]\n",
        "colors = [plt.cm.inferno_r(i/float(n_categories)) for i in range(n_categories)]\n",
        "\n",
        "# Draw Plot and Decorate\n",
        "fig = plt.figure(\n",
        "    FigureClass=Waffle,\n",
        "    plots={\n",
        "        '111': {\n",
        "            'values': df['Percent'],\n",
        "            'labels': [\"{0} ({1})\".format(n[0], n[1]) for n in df[['continent', 'Percent']].itertuples()],\n",
        "            'legend': {'loc': 'upper left', 'bbox_to_anchor': (1.05, 1), 'fontsize': 12},\n",
        "            'title': {'label': 'Continents with most in-game purchases', 'loc': 'center', 'fontsize':18}\n",
        "        },\n",
        "    },\n",
        "    rows=7,\n",
        "    colors=colors,\n",
        "    figsize=(16, 9)\n",
        ")"
      ],
      "metadata": {
        "colab": {
          "base_uri": "https://localhost:8080/",
          "height": 477
        },
        "id": "oU9JbbCa4KOz",
        "outputId": "1ad0d9e2-1b99-4080-a5d4-2e157466b228"
      },
      "execution_count": 45,
      "outputs": [
        {
          "output_type": "display_data",
          "data": {
            "text/plain": [
              "<Waffle size 1152x648 with 1 Axes>"
            ],
            "image/png": "[encoded data removed]"
          },
          "metadata": {
            "needs_background": "light"
          }
        }
      ]
    },
    {
      "cell_type": "code",
      "execution_count": 255,
      "metadata": {
        "id": "zzYtz4xIbObI",
        "colab": {
          "base_uri": "https://localhost:8080/"
        },
        "outputId": "3ce6cb5a-ac8a-4fb2-fe68-32dbe1a36e60"
      },
      "outputs": [
        {
          "output_type": "execute_result",
          "data": {
            "text/plain": [
              "nan"
            ]
          },
          "metadata": {},
          "execution_count": 255
        }
      ],
      "source": [
        "################### TEAM SPENDING AND TEAM RANK CORR\n",
        "\n",
        "\n",
        "\n",
        "# team_user_buying_df.show()\n",
        "team_user_buying_df.stat.corr(\"price\",\"currentLevel\")\n",
        "\n",
        "\n",
        "\n",
        "\n"
      ]
    },
    {
      "cell_type": "code",
      "execution_count": 192,
      "metadata": {
        "id": "kSgVncU6g6jY",
        "colab": {
          "base_uri": "https://localhost:8080/",
          "height": 331
        },
        "outputId": "c7af187e-ba92-4759-ec11-6c42d82751de"
      },
      "outputs": [
        {
          "output_type": "execute_result",
          "data": {
            "text/plain": [
              "Text(0, 0.5, 'Total Spending')"
            ]
          },
          "metadata": {},
          "execution_count": 192
        },
        {
          "output_type": "display_data",
          "data": {
            "text/plain": [
              "<Figure size 1280x800 with 0 Axes>"
            ]
          },
          "metadata": {}
        },
        {
          "output_type": "display_data",
          "data": {
            "text/plain": [
              "<Figure size 432x288 with 1 Axes>"
            ],
            "image/png": "[encoded data removed]"
          },
          "metadata": {}
        }
      ],
      "source": [
        "#################### AD CLICK CHECK \n",
        "###### CHECK WHICH ITEM SELLS WELL\n",
        "\n",
        "from pyspark.sql.functions import rank,sum,col\n",
        "# import matplotlib.pyplot as plt\n",
        "\n",
        "adclicks_df = spark.read.csv(\"/content/flamingo-data/ad-clicks.csv\", header=True, inferSchema=True)\n",
        "buy_clicks_df = spark.read.csv(\"/content/flamingo-data/buy-clicks.csv\", header=True, inferSchema=True)\n",
        "\n",
        "item_purchases_stat_df = buy_clicks_df.groupby(\"buyId\").agg(sum(f.col(\"price\")).alias(\"total_price\")).orderBy(\"buyId\").toPandas()\n",
        "\n",
        "\n",
        "\n",
        "item_purchase_stat_df = list(item_purchases_stat_df[\"buyId\"])\n",
        "plt.figure(figsize=(16, 10), dpi= 80, facecolor='w', edgecolor='k') \n",
        "item_purchases_stat_df.plot.bar(width=1.2)\n",
        "plt.xticks(rotation=0)\n",
        "plt.title(\"Highest Sold Products\", loc='left')\n",
        "plt.xlabel('Product Id')\n",
        "plt.ylabel('Total Spending')\n",
        "# buy_clicks_df.show()\n",
        "\n"
      ]
    },
    {
      "cell_type": "code",
      "execution_count": 48,
      "metadata": {
        "id": "X36PaPGT4_4z",
        "colab": {
          "base_uri": "https://localhost:8080/",
          "height": 331
        },
        "outputId": "fe602612-10ba-4ada-8726-d2f0b1111797"
      },
      "outputs": [
        {
          "output_type": "execute_result",
          "data": {
            "text/plain": [
              "<matplotlib.axes._subplots.AxesSubplot at 0x7f9bf62ea710>"
            ]
          },
          "metadata": {},
          "execution_count": 48
        },
        {
          "output_type": "display_data",
          "data": {
            "text/plain": [
              "<Figure size 1440x1440 with 0 Axes>"
            ]
          },
          "metadata": {}
        },
        {
          "output_type": "display_data",
          "data": {
            "text/plain": [
              "<Figure size 432x288 with 1 Axes>"
            ],
            "image/png": "[encoded data removed]"
          },
          "metadata": {
            "needs_background": "light"
          }
        }
      ],
      "source": [
        "adclicks_df = spark.read.csv(\"/content/flamingo-data/ad-clicks.csv\", header=True, inferSchema=True)\n",
        "\n",
        "#######  FORMAT THE TIMESTAMP COLUMN IN DF AND THEN GROUP BY THE FORMATTED DF \n",
        "# To groupby newly created month column which holds  date in yyyy-MM-dd form. \n",
        "# count the occurance of each date. as each new date represents a click on ad.\n",
        "plt.figure(figsize=(20,20))\n",
        "# adclicks_df.groupby(\"adCategory\").count().orderBy(\"count\").show()\n",
        "adclicks_df.withColumn(\"tstamp\",f.date_format(adclicks_df.timestamp,'yyyy-MM-dd') )\\\n",
        ".withColumn(\"hstamp\",f.date_format(adclicks_df.timestamp,'hh:mm:ss') )\\\n",
        ".withColumn(\"month\",f.date_format(adclicks_df.timestamp,'yyyy-MM-dd') )\\\n",
        ".select(\"month\")\\\n",
        ".groupBy(\"month\")\\\n",
        ".count()\\\n",
        ".orderBy(\"count\")\\\n",
        ".toPandas()\\\n",
        ".plot.line(x=\"month\", y=\"count\", xlabel=\"Days\", ylabel=\"Ads clicked\", title=\"Time Series of Adclick per Day\")\\\n"
      ]
    },
    {
      "cell_type": "code",
      "source": [
        "\n",
        "################# GET DEVICE TOTAL + PERCENTAGE + INDIVIDUAL PLATFORM\n",
        "\n",
        "window = Window.rowsBetween(Window.unboundedPreceding,Window.unboundedFollowing)\n",
        "\n",
        "user_session_df = spark.read.csv(\"/content/flamingo-data/user-session.csv\", header=True, inferSchema=True)\n",
        "platform_usage_stats_df = user_session_df.groupBy(\"platformType\").agg(f.mean(\"teamLevel\").alias(\"average_rank\"), \n",
        "                                            f.count(\"platformType\").alias(\"total_platform_count\"))\\\n",
        "                                            .orderBy(\"average_rank\")\\\n",
        "                                            .withColumn('total',sum(f.col('total_platform_count')).over(window))\\\n",
        "                                            .withColumn('Percent',f.col('total_platform_count')*100/f.col('total'))\\\n",
        "                                            .orderBy(f.col(\"Percent\").desc())\n",
        "\n",
        "\n",
        "\n",
        "# team_user_buying_df_stat = team_user_buying_df.groupby(\"continent\").agg(f.sum('price').alias('spending_count'),\n",
        "#                                         f.mean('price').alias('price_avg'),\n",
        "#                                         f.min('price').alias('price_min'),\n",
        "#                                         f.max('price').alias('price_max')).\\\n",
        "#    withColumn('total',sum(f.col('spending_count')).over(window)).\\\n",
        "#    withColumn('Percent',f.col('spending_count')*100/f.col('total'))\n",
        "# platform_usage_stats_df = platform_usage_stats_df.count().withColumn(\"total_platform_count\", f.col(\"count\"))\n",
        "platform_usage_stats_df.show()"
      ],
      "metadata": {
        "colab": {
          "base_uri": "https://localhost:8080/"
        },
        "id": "Y5DeWqmD8a-t",
        "outputId": "50f59a92-655d-4ffe-9ae1-ad7c8380be90"
      },
      "execution_count": 237,
      "outputs": [
        {
          "output_type": "stream",
          "name": "stdout",
          "text": [
            "+------------+-----------------+--------------------+-----+------------------+\n",
            "|platformType|     average_rank|total_platform_count|total|           Percent|\n",
            "+------------+-----------------+--------------------+-----+------------------+\n",
            "|      iphone|4.349509550851833|                3874| 9250| 41.88108108108108|\n",
            "|     android|4.388515577275504|                3274| 9250|35.394594594594594|\n",
            "|     windows|4.364516129032258|                1240| 9250|13.405405405405405|\n",
            "|       linux|4.182539682539683|                 504| 9250| 5.448648648648649|\n",
            "|         mac|4.379888268156424|                 358| 9250|3.8702702702702703|\n",
            "+------------+-----------------+--------------------+-----+------------------+\n",
            "\n"
          ]
        }
      ]
    },
    {
      "cell_type": "code",
      "source": [
        "#################### DONUT PLOT\n",
        "platform_usage_stats_df\n",
        "\n",
        "\n",
        "\n",
        "\n",
        "import pandas as pd\n",
        "import re\n",
        "\n",
        "\n",
        "user_session_df = spark.read.csv(\"/content/flamingo-data/user-session.csv\", header=True, inferSchema=True)\n",
        "# platform_usage_stats_df = user_session_df.groupBy(\"platformType\").agg(f.mean(\"teamLevel\").alias(\"average_rank\"), \n",
        "#                                             f.count(\"platformType\").alias(\"total_platform_count\")).orderBy(\"average_rank\")\n",
        "\n",
        "\n",
        "# xlabels = list(platform_usage_stats_df.toPandas()[\"platformType\"])\n",
        "# # platform_usage_stats_df.toPandas().plot.bar()\n",
        "\n",
        "# labels = list(platform_usage_stats_df.toPandas()[\"platformType\"])\n",
        "# sizes =  list(platform_usage_stats_df.toPandas()[\"total_platform_count\"])\n",
        "\n",
        "data = platform_usage_stats_df.toPandas()\n",
        "\n",
        "\n",
        "import matplotlib.pyplot as plt\n",
        "\n",
        "\n",
        "fig = plt.figure(figsize=(16, 10), dpi= 80, facecolor='w', edgecolor='k')\n",
        "\n",
        "# create donut plots\n",
        "startingRadius = 0.7 + (0.3* (len(data)-1))\n",
        "for index, row in data.iterrows():\n",
        "    scenario = row[\"platformType\"]\n",
        "    percentage = row[\"Percent\"]\n",
        "    textLabel = scenario.capitalize() + ' ' + str(round(percentage,2)) + \" %\"\n",
        "    print(startingRadius)\n",
        "    #percentage = int(re.search(r'\\d+', percentage).group())\n",
        "    remainingPie = 100 - percentage\n",
        "\n",
        "    donut_sizes = [remainingPie, percentage]\n",
        "\n",
        "    plt.text(0.01, startingRadius - 0.197, textLabel, horizontalalignment='center', verticalalignment='center')\n",
        "    plt.pie(donut_sizes, radius=startingRadius, startangle=90, colors=['#d5f6da', '#5cdb6f'],\n",
        "            wedgeprops={\"edgecolor\": \"white\", 'linewidth': 1})\n",
        "\n",
        "    startingRadius-=0.3\n",
        "\n",
        "\n",
        "\n",
        "# equal ensures pie chart is drawn as a circle (equal aspect ratio)\n",
        "plt.axis('equal')\n",
        "\n",
        "# create circle and place onto pie chart\n",
        "circle = plt.Circle(xy=(0, 0), radius=0.35, facecolor='white')\n",
        "plt.gca().add_artist(circle)\n",
        "plt.show()"
      ],
      "metadata": {
        "colab": {
          "base_uri": "https://localhost:8080/",
          "height": 726
        },
        "id": "jdhVIOq6-GN7",
        "outputId": "4f9fa8bf-9306-4ebd-d6e3-529d2994b50f"
      },
      "execution_count": 238,
      "outputs": [
        {
          "output_type": "stream",
          "name": "stdout",
          "text": [
            "1.9\n",
            "1.5999999999999999\n",
            "1.2999999999999998\n",
            "0.9999999999999998\n",
            "0.6999999999999997\n"
          ]
        },
        {
          "output_type": "display_data",
          "data": {
            "text/plain": [
              "<Figure size 1280x800 with 1 Axes>"
            ],
            "image/png": "[encoded data removed]"
          },
          "metadata": {}
        }
      ]
    },
    {
      "cell_type": "code",
      "execution_count": 52,
      "metadata": {
        "id": "GdLFfgdk_ppu",
        "colab": {
          "base_uri": "https://localhost:8080/",
          "height": 466
        },
        "outputId": "326169df-f671-4a98-81b9-132d19437398"
      },
      "outputs": [
        {
          "output_type": "display_data",
          "data": {
            "text/plain": [
              "<Figure size 720x576 with 1 Axes>"
            ],
            "image/png": "[encoded data removed]"
          },
          "metadata": {}
        }
      ],
      "source": [
        "############## GET DEVICE PIE CHART\n",
        "\n",
        "\n",
        "import matplotlib.pyplot as plt\n",
        "import seaborn as sns\n",
        "\n",
        "\n",
        "\n",
        "\n",
        "user_session_df = spark.read.csv(\"/content/flamingo-data/user-session.csv\", header=True, inferSchema=True)\n",
        "platform_usage_stats_df = user_session_df.groupBy(\"platformType\").agg(f.mean(\"teamLevel\").alias(\"average_rank\"), \n",
        "                                            f.count(\"platformType\").alias(\"total_platform_count\")).orderBy(\"average_rank\")\n",
        "\n",
        "\n",
        "xlabels = list(platform_usage_stats_df.toPandas()[\"platformType\"])\n",
        "# platform_usage_stats_df.toPandas().plot.bar()\n",
        "\n",
        "labels = list(platform_usage_stats_df.toPandas()[\"platformType\"])\n",
        "sizes =  list(platform_usage_stats_df.toPandas()[\"total_platform_count\"])\n",
        "\n",
        "\n",
        "colors = ['gold', 'yellowgreen', 'lightcoral','blue', 'lightskyblue','green','red', \"brown\"]\n",
        "# explode = tuple( if X == 0 else x=0 for x in range(len(labels)) ) \n",
        "\n",
        "max = 0\n",
        "for i in sizes:\n",
        "  if max< i:\n",
        "    max = i\n",
        "  \n",
        "\n",
        "explode = list(0 for _ in sizes)\n",
        "\n",
        "explode[sizes.index(max)]  = 0.1\n",
        "\n",
        "# 0, 0.1, 0, 0,0,0\n",
        "# Plot\n",
        "plt.figure(figsize=(10,8))\n",
        "plt.pie(sizes,explode = explode, labels=labels, colors=colors,\n",
        "        autopct='%1.1f%%', shadow=True, startangle=140)\n",
        "\n",
        "\n",
        "# Create a circle for the center of the plot\n",
        "my_circle=plt.Circle( (0,0), 0.7, color=\"white\")\n",
        "p=plt.gcf()\n",
        "p.gca().add_artist(my_circle)\n",
        "\n",
        "plt.axis('equal')\n",
        "\n",
        "\n",
        "\n",
        "\n",
        "plt.show()\n",
        "\n",
        "\n",
        "\n"
      ]
    },
    {
      "cell_type": "code",
      "source": [
        ""
      ],
      "metadata": {
        "id": "NvHFXKdnXUZH"
      },
      "execution_count": 52,
      "outputs": []
    },
    {
      "cell_type": "code",
      "execution_count": 52,
      "metadata": {
        "id": "mZjo-jGEbpMp"
      },
      "outputs": [],
      "source": [
        ""
      ]
    },
    {
      "cell_type": "code",
      "execution_count": 239,
      "metadata": {
        "id": "v97c0kfE4mF5",
        "colab": {
          "base_uri": "https://localhost:8080/",
          "height": 567
        },
        "outputId": "46628744-8112-4388-93bb-cdca9a139b7e"
      },
      "outputs": [
        {
          "output_type": "execute_result",
          "data": {
            "text/plain": [
              "[Text(0, 0.5, 'count'),\n",
              " Text(0.5, 0, 'Count of time person joins a team'),\n",
              " Text(0.5, 1.0, 'Plot showing statistics of players joining teams')]"
            ]
          },
          "metadata": {},
          "execution_count": 239
        },
        {
          "output_type": "display_data",
          "data": {
            "text/plain": [
              "<Figure size 1440x576 with 2 Axes>"
            ],
            "image/png": "[encoded data removed]"
          },
          "metadata": {}
        }
      ],
      "source": [
        "######################### CHECKING ON AVERAGE A PLAYER JOINS HOW MANY TEAMS\n",
        "team_assigments = spark.read.csv(\"/content/flamingo-data/team-assignments.csv\", header=True, inferSchema=True)\n",
        "\n",
        "\n",
        "team_assigment_stats_df = team_assigments.groupBy(\"userId\").agg(f.count(\"userId\").alias(\"count\")).select(\"count\",\"userId\").orderBy(\"count\")\n",
        "x = team_assigment_stats_df.select(\"count\").toPandas()\n",
        "\n",
        "fig = plt.figure(figsize=(20, 8))\n",
        "ax = fig.add_subplot(1, 2, 1)\n",
        "ax = sns.boxplot(data=x, palette=\"Set3\")\n",
        "ax.set(xlabel='Average number of times person joins a team', ylabel='count', \n",
        "       title = \"Plot showing statistics of players joining teams\")\n",
        "\n",
        "\n",
        "\n",
        "ax = fig.add_subplot(1, 2, 2)\n",
        "ax = sns.violinplot(data=x, color = 'black')\n",
        "ax.set(xlabel='Count of time person joins a team', ylabel='count', title = \"Plot showing statistics of players joining teams\")\n",
        "\n",
        "\n",
        "\n"
      ]
    },
    {
      "cell_type": "code",
      "execution_count": 244,
      "metadata": {
        "id": "CL8KAgdzutNm",
        "colab": {
          "base_uri": "https://localhost:8080/",
          "height": 666
        },
        "outputId": "0ac26275-1680-43cf-f911-37e4e355986d"
      },
      "outputs": [
        {
          "output_type": "stream",
          "name": "stdout",
          "text": [
            "+------------+------------------+----------+-------------------+\n",
            "|platformType|platform_hit_count|total_hits|         percentage|\n",
            "+------------+------------------+----------+-------------------+\n",
            "|         mac|             30582|    276852|0.11046335226041351|\n",
            "|       linux|             53910|    498808| 0.1080776571346089|\n",
            "|     windows|            113098|   1042214|0.10851706079557558|\n",
            "|     android|            299576|   2747372|0.10904093075127795|\n",
            "|      iphone|            348976|   3066988|0.11378459909200818|\n",
            "+------------+------------------+----------+-------------------+\n",
            "\n"
          ]
        },
        {
          "output_type": "display_data",
          "data": {
            "text/plain": [
              "<Figure size 864x576 with 1 Axes>"
            ],
            "image/png": "[encoded data removed]"
          },
          "metadata": {}
        }
      ],
      "source": [
        "######################## CHECKING HIGHER RANK TEAMS PLAY WHICH EVENTS\n",
        "######################### GAME CLICKS IS PLATFORM DEPENDANT\n",
        "\n",
        "game_clicks_df = spark.read.csv(\"/content/flamingo-data/game-clicks.csv\", header=True, inferSchema=True)\n",
        "user_session_df = spark.read.csv(\"/content/flamingo-data/user-session.csv\", header=True, inferSchema=True)\n",
        "\n",
        "\n",
        "\n",
        "game_clicks_user_session_df = game_clicks_df.alias(\"game_clicks_df\").join(user_session_df.alias(\"user_session_df\"), \n",
        "                                            f.col(\"game_clicks_df.userid\") == f.col(\"user_session_df.userId\"), \"inner\")\\\n",
        "                                            \n",
        "\n",
        "\n",
        "# https://stackoverflow.com/questions/49021972/pyspark-count-rows-on-condition\n",
        "\n",
        "\n",
        "\n",
        "\n",
        "game_clicks_user_session_pf_df = game_clicks_user_session_df.groupby(\"platformType\")\\\n",
        "                  .agg( f.sum( f.when(f.col(\"isHit\") == 1, 1).otherwise(0)).alias(\"platform_hit_count\") , \n",
        "                  f.count(\"isHit\").alias(\"total_hits\"))\\\n",
        "                  .withColumn(\"percentage\", f.col(\"platform_hit_count\") / f.col(\"total_hits\"))\\\n",
        "                  .orderBy(\"platform_hit_count\")\n",
        "                  \n",
        "ylabels = list(game_clicks_user_session_pf_df.toPandas()[\"platformType\"]  )    \n",
        "                  \n",
        "\n",
        "\n",
        "game_clicks_user_session_pf_df.toPandas().plot(\n",
        "                   kind='barh',\n",
        "                  figsize=(12,8),\n",
        "                  logx=True).set_yticklabels(ylabels)\n",
        "\n",
        "# game_clicks_user_session_df.groupby(\"platformType\").agg( f.count(\"isHit\") )\n",
        "# game_clicks_user_session_pf_df.show()\n",
        "\n",
        "# game_clicks_user_session_pf_df_percentage = game_clicks_user_session_pf_df\\\n",
        "                                            # .withColumn(\"percentage\",f.col(\"platform_hit_count\").divide(f.col(\"total_hits\")))\n",
        "\n",
        "\n",
        "# game_clicks_user_session_pf_df_percentage\n",
        "\n",
        "game_clicks_user_session_pf_df.show()\n",
        "\n",
        "\n"
      ]
    },
    {
      "cell_type": "code",
      "source": [
        "import seaborn as sns\n",
        "import matplotlib.pyplot as plt\n",
        "sns.set_theme(style=\"whitegrid\")\n",
        "\n",
        "# Initialize the matplotlib figure\n",
        "f, ax = plt.subplots(figsize=(20, 8))\n",
        "\n",
        "# Load the example car crash dataset\n",
        "crashes = game_clicks_user_session_pf_df.toPandas()\n",
        "\n",
        "print(crashes.head())\n",
        "\n",
        "# Plot the total crashes\n",
        "sns.set_color_codes(\"pastel\")\n",
        "sns.barplot(x=\"total_hits\", y=\"platformType\", data=crashes,\n",
        "            label=\"Total\", color=\"b\")\n",
        "\n",
        "\n",
        "for bar, percentage in zip(ax.patches, crashes['percentage'].values[::-1]):\n",
        "    ax.annotate( str(round(float(percentage),5) * 100 ) + \" %\" ,xy=(bar.get_width(), bar.get_y()+bar.get_height()/2),\n",
        "            xytext=(5, 0), textcoords='offset points', ha=\"left\", va=\"center\")\n",
        "\n",
        "# for bar, percentage in zip(ax.patches, crashes['percentage'].values[::-1]):\n",
        "#     ax.text(0.8, bar.get_y()+bar.get_height()/2, percentage, color = 'white', ha = 'left', va = 'center')\n",
        "\n",
        "# for i, val in enumerate(crashes['percentage'].values):\n",
        "#     ax.text(val, i, str(round(float(val),4) * 100 ) + \" %\", horizontalalignment='center', verticalalignment='bottom', fontdict={'fontweight':500, 'size':12})\n",
        "\n",
        "# Plot the crashes where alcohol was involved\n",
        "sns.set_color_codes(\"muted\")\n",
        "sns.barplot(x=\"platform_hit_count\", y=\"platformType\", data=crashes,\n",
        "            label=\"Alcohol-involved\", color=\"b\")\n",
        "\n",
        "\n",
        "# Add a legend and informative axis label\n",
        "\n",
        "ax.legend(ncol=2, loc=\"lower right\", frameon=True)\n",
        "ax.set(ylabel=\"\",\n",
        "       xlabel=\"Automobile collisions per billion miles\")\n",
        "sns.despine(left=True, bottom=True)"
      ],
      "metadata": {
        "colab": {
          "base_uri": "https://localhost:8080/",
          "height": 609
        },
        "id": "G39gyBrmQWZC",
        "outputId": "e263b7a2-6d65-4c7f-fc71-017f253d6c62"
      },
      "execution_count": 292,
      "outputs": [
        {
          "output_type": "stream",
          "name": "stdout",
          "text": [
            "  platformType  platform_hit_count  total_hits  percentage\n",
            "0          mac               30582      276852    0.110463\n",
            "1        linux               53910      498808    0.108078\n",
            "2      windows              113098     1042214    0.108517\n",
            "3      android              299576     2747372    0.109041\n",
            "4       iphone              348976     3066988    0.113785\n"
          ]
        },
        {
          "output_type": "display_data",
          "data": {
            "text/plain": [
              "<Figure size 1440x576 with 1 Axes>"
            ],
            "image/png": "[encoded data removed]"
          },
          "metadata": {}
        }
      ]
    },
    {
      "cell_type": "code",
      "source": [
        "############# CORR\n",
        "from pyspark.sql import functions as f\n",
        "\n",
        "team_df = spark.read.csv(\"/content/flamingo-data/team.csv\", header=True, inferSchema=True)\n",
        "buyclicks_df = spark.read.csv(\"/content/flamingo-data/buy-clicks.csv\", header=True, inferSchema=True)\n",
        "\n",
        "\n",
        "team_buying_df = team_df.alias(\"teamdf\").join(buyclicks_df.alias(\"buyclicks\"),\\\n",
        "                            f.col(\"teamdf.teamId\") == f.col(\"buyclicks.team\"),\"inner\")\n",
        "\n",
        "\n",
        "\n",
        "########## HISTOGRAM OF SPENDING COUNT HOW MUCH SPENDING IS DISTRIBUTED && CORRELATION\n",
        "\n",
        "# team_buying_df.groupBy(\"teamId\").sum(\"price\", \"strength\").orderBy(\"sum(price)\").toPandas().hist(column = \"sum(price)\")\n",
        "\n",
        "\n",
        "team_buying_df_grouped = team_buying_df.groupBy(\"teamId\").sum(\"price\", \"strength\")\\\n",
        "         .select('teamId', f.col('sum(price)').alias('total_spending'), f.col('sum(strength)').alias('total_strength'))\\\n",
        "         .orderBy(\"sum(price)\")\n",
        "\n",
        "team_buying_df.stat.corr(\"price\",\"strength\")\n",
        "# team_buying_df_grouped.show()"
      ],
      "metadata": {
        "colab": {
          "base_uri": "https://localhost:8080/"
        },
        "id": "L96uaURdTfhA",
        "outputId": "3ff09e9d-65b8-4476-bd05-fbbc663b670c"
      },
      "execution_count": 264,
      "outputs": [
        {
          "output_type": "execute_result",
          "data": {
            "text/plain": [
              "-0.06938790495270436"
            ]
          },
          "metadata": {},
          "execution_count": 264
        }
      ]
    },
    {
      "cell_type": "code",
      "execution_count": 55,
      "metadata": {
        "id": "Jw4KtXoEHl5D"
      },
      "outputs": [],
      "source": [
        "################ CLUSTERING ANALYSIS\n",
        "\n",
        "# Utility functions for Spark Cluster Analysis Hands-On\n",
        "#\n",
        "#\n",
        "from itertools import cycle, islice\n",
        "from math import sqrt\n",
        "from numpy import array\n",
        "from pandas.plotting import parallel_coordinates\n",
        "from pyspark.ml.clustering import KMeans as KM\n",
        "from pyspark.mllib.linalg import DenseVector\n",
        "import matplotlib.pyplot as plt\n",
        "import numpy as np\n",
        "import pandas as pd\n",
        "\n",
        "def computeCost(featuresAndPrediction, model):\n",
        "    allClusterCenters = [DenseVector(c) for c in model.clusterCenters()]\n",
        "    arrayCollection   = featuresAndPrediction.rdd.map(array)\n",
        "\n",
        "    def error(point, predictedCluster):\n",
        "        center = allClusterCenters[predictedCluster]\n",
        "        z      = point - center\n",
        "        return sqrt((z*z).sum())\n",
        "    \n",
        "    return arrayCollection.map(lambda row: error(row[0], row[1])).reduce(lambda x, y: x + y)\n",
        "\n",
        "\n",
        "def elbow(elbowset, clusters):\n",
        "\twsseList = []\t\n",
        "\tfor k in clusters:\n",
        "\t\tprint(\"Training for cluster size {} \".format(k))\n",
        "\t\tkmeans = KM(k = k, seed = 1)\n",
        "\t\tmodel = kmeans.fit(elbowset)\n",
        "\t\ttransformed = model.transform(elbowset)\n",
        "\t\tfeaturesAndPrediction = transformed.select(\"features\", \"prediction\")\n",
        "\n",
        "\t\tW = computeCost(featuresAndPrediction, model)\n",
        "\t\tprint(\"......................WSSE = {} \".format(W))\n",
        "\n",
        "\t\twsseList.append(W)\n",
        "\treturn wsseList\n",
        "\n",
        "def elbow_plot(wsseList, clusters):\n",
        "\twsseDF = pd.DataFrame({'WSSE' : wsseList, 'k' : clusters })\n",
        "\twsseDF.plot(y='WSSE', x='k', figsize=(15,10), grid=True, marker='o')\n",
        "\n",
        "def pd_centers(featuresUsed, centers):\n",
        "\tcolNames = list(featuresUsed)\n",
        "\tcolNames.append('prediction')\n",
        "\n",
        "\t# Zip with a column called 'prediction' (index)\n",
        "\tZ = [np.append(A, index) for index, A in enumerate(centers)]\n",
        "\n",
        "\t# Convert to pandas for plotting\n",
        "\tP = pd.DataFrame(Z, columns=colNames)\n",
        "\tP['prediction'] = P['prediction'].astype(int)\n",
        "\treturn P\n",
        "\n",
        "def parallel_plot(data, P):\n",
        "\tmy_colors = list(islice(cycle(['b', 'r', 'g', 'y', 'k']), None, len(P)))\n",
        "\tplt.figure(figsize=(15,8)).gca().axes.set_ylim([-3,+3])\n",
        "\tparallel_coordinates(data, 'prediction', color = my_colors, marker='o')\n",
        "\n"
      ]
    },
    {
      "cell_type": "code",
      "execution_count": 56,
      "metadata": {
        "id": "aKWi5VYTaR9K",
        "colab": {
          "base_uri": "https://localhost:8080/"
        },
        "outputId": "e6f7adaf-d9be-44f9-f217-89c0d60f8214"
      },
      "outputs": [
        {
          "output_type": "execute_result",
          "data": {
            "text/plain": [
              "DataFrame[userId: int, userSessionId: int, teamLevel: int, platformType: string, count_gameclicks: int, count_hits: int, count_buyId: string, avg_price: string]"
            ]
          },
          "metadata": {},
          "execution_count": 56
        }
      ],
      "source": [
        "df = spark.read.csv(\"/content/combined-data.csv\", header=True, inferSchema=True)\n",
        "\n",
        "df"
      ]
    },
    {
      "cell_type": "code",
      "execution_count": 57,
      "metadata": {
        "id": "dkiC_gv1a67Z",
        "colab": {
          "base_uri": "https://localhost:8080/"
        },
        "outputId": "f57bb178-e563-44cd-b872-75b366911df4"
      },
      "outputs": [
        {
          "output_type": "execute_result",
          "data": {
            "text/plain": [
              "4619"
            ]
          },
          "metadata": {},
          "execution_count": 57
        }
      ],
      "source": [
        "df.count()\n",
        "df.na.drop().count()\n",
        "\n",
        "\n",
        "\n"
      ]
    },
    {
      "cell_type": "code",
      "execution_count": 58,
      "metadata": {
        "id": "O-4BpCuara4g",
        "colab": {
          "base_uri": "https://localhost:8080/"
        },
        "outputId": "a4286f1c-02a2-45d8-ab2a-6feb833e5d8a"
      },
      "outputs": [
        {
          "output_type": "execute_result",
          "data": {
            "text/plain": [
              "['userId',\n",
              " 'userSessionId',\n",
              " 'teamLevel',\n",
              " 'platformType',\n",
              " 'count_gameclicks',\n",
              " 'count_hits',\n",
              " 'count_buyId',\n",
              " 'avg_price']"
            ]
          },
          "metadata": {},
          "execution_count": 58
        }
      ],
      "source": [
        "df.columns"
      ]
    },
    {
      "cell_type": "code",
      "execution_count": 59,
      "metadata": {
        "id": "rbBLYLKIo_qS"
      },
      "outputs": [],
      "source": [
        "################ K-MEANS CLUSTERING\n",
        "ad_click_df = spark.read.csv(\"/content/flamingo-data/ad-clicks.csv\", header=True, inferSchema=True)\n",
        "buy_click_df = spark.read.csv(\"/content/flamingo-data/buy-clicks.csv\", header=True, inferSchema=True)\n",
        "game_click_df = spark.read.csv(\"/content/flamingo-data/game-clicks.csv\", header=True, inferSchema=True)\n",
        "level_events_df = spark.read.csv(\"/content/flamingo-data/level-events.csv\", header=True, inferSchema=True)\n",
        "team_assignments_df = spark.read.csv(\"/content/flamingo-data/team-assignments.csv\", header=True, inferSchema=True)\n",
        "team_df = spark.read.csv(\"/content/flamingo-data/team.csv\", header=True, inferSchema=True)\n",
        "users_df = spark.read.csv(\"/content/flamingo-data/users.csv\", header=True, inferSchema=True)\n",
        "users_session_df = spark.read.csv(\"/content/flamingo-data/user-session.csv\", header=True, inferSchema=True)\n",
        "\n",
        "\n",
        "\n",
        "\n",
        "\n",
        "\n",
        "\n",
        "\n",
        "\n",
        "\n"
      ]
    },
    {
      "cell_type": "code",
      "execution_count": 240,
      "metadata": {
        "id": "9hxz-a6gvTfA"
      },
      "outputs": [],
      "source": [
        "################# JOIN ALL TABLES\n",
        "\n",
        "whole_dataset_df = team_assignments_df.alias(\"team_assignment_df\").join(users_df.alias(\"users_df\"),\\\n",
        "                           f.col(\"team_assignment_df.userId\") == f.col(\"users_df.userId\"),\"inner\")\\\n",
        "                           .join(team_df.alias(\"team_df\"), f.col(\"team_df.teamId\") == f.col(\"team\"))\\\n",
        "                           .join(users_session_df.alias(\"users_session_df\"), f.col(\"users_session_df.userId\") == f.col(\"users_df.userId\"))\\\n",
        "                           .join(game_click_df.alias(\"game_click_df\"), f.col(\"game_click_df.userId\") == f.col(\"users_df.userId\"))\\\n",
        "                           .join(ad_click_df.alias(\"ad_click_df\"), f.col(\"ad_click_df.userId\") == f.col(\"users_df.userId\"))\\\n",
        "                           .join(buy_click_df.alias(\"buy_click_df\"), f.col(\"buy_click_df.userId\") == f.col(\"users_df.userId\"))\\\n",
        "                           .select(\"team_assignment_df.timestamp\", \"team_assignment_df.timestamp\", \n",
        "                                   \"users_df.userId\", \"users_df.nick\", \"users_df.twitter\",\"users_df.country\",\"users_df.dob\",\n",
        "                                   \"team_df.teamId\",\"team_df.teamCreationTime\", \"team_df.teamEndTime\", \"team_df.strength\",\"team_df.currentLevel\",\n",
        "                                   \"users_session_df.timestamp\",\"users_session_df.timestamp\", \"users_session_df.sessionType\",\"users_session_df.teamLevel\",\"users_session_df.platformType\",\n",
        "                                   \"game_click_df.timestamp\", \"game_click_df.isHit\",\n",
        "                                   \"ad_click_df.adId\", \"ad_click_df.adCategory\",\n",
        "                                   \"buy_click_df.txId\",\"buy_click_df.price\")\\\n",
        "                          "
      ]
    },
    {
      "cell_type": "code",
      "execution_count": 242,
      "metadata": {
        "id": "Ni6hia6h2gve",
        "colab": {
          "base_uri": "https://localhost:8080/"
        },
        "outputId": "36e34a51-5ec5-4cf5-972c-bd66af8c2244"
      },
      "outputs": [
        {
          "output_type": "stream",
          "name": "stdout",
          "text": [
            "+---------------+---------+-----+-----+\n",
            "|       strength|teamLevel|isHit|price|\n",
            "+---------------+---------+-----+-----+\n",
            "|  0.34348462196|        3|    1|  2.0|\n",
            "| 0.141376627543|        6|    1|  3.0|\n",
            "|  0.13358763615|        5|    1|  2.0|\n",
            "| 0.350676528613|        3|    0|  3.0|\n",
            "| 0.393763462002|        3|    0|  5.0|\n",
            "| 0.642122051019|        4|    0| 10.0|\n",
            "| 0.767191204445|        3|    0|  1.0|\n",
            "|0.0859900712952|        7|    1| 20.0|\n",
            "| 0.132214897776|        1|    0|  3.0|\n",
            "|   0.6086527331|        6|    1| 20.0|\n",
            "|  0.47269158141|        2|    0|  1.0|\n",
            "| 0.718462485619|        7|    1|  2.0|\n",
            "| 0.132214897776|        5|    1| 20.0|\n",
            "|   0.6086527331|        4|    0|  3.0|\n",
            "|   0.6086527331|        4|    0|  2.0|\n",
            "|   0.6086527331|        1|    0|  1.0|\n",
            "| 0.276723269022|        4|    1| 20.0|\n",
            "| 0.668180373589|        1|    0|  2.0|\n",
            "| 0.701621474289|        3|    1| 20.0|\n",
            "|0.0495931577569|        5|    0| 10.0|\n",
            "+---------------+---------+-----+-----+\n",
            "only showing top 20 rows\n",
            "\n"
          ]
        }
      ],
      "source": [
        "whole_dataset_df = whole_dataset_df.select('strength',\n",
        " 'teamLevel',\n",
        " 'isHit',\n",
        " 'price').distinct()\n",
        "\n",
        "whole_dataset_df.count()\n",
        "\n",
        "\n",
        "whole_dataset_df.show()\n"
      ]
    },
    {
      "cell_type": "code",
      "source": [
        "############# CLASSIFICATION AND CLUSTERING ANALYSIS\n",
        "\n",
        "combined_data_df = spark.read.csv(\"/content/combined-data.csv\", header=True, inferSchema=True)\n",
        "\n",
        "\n",
        "combined_data_df.show()\n",
        "\n",
        "\n",
        "\n"
      ],
      "metadata": {
        "colab": {
          "base_uri": "https://localhost:8080/"
        },
        "id": "tDR-cikxOKmy",
        "outputId": "21a2459a-75f4-4e0f-9c01-8a2b54e0adab"
      },
      "execution_count": 243,
      "outputs": [
        {
          "output_type": "stream",
          "name": "stdout",
          "text": [
            "+------+-------------+---------+------------+----------------+----------+-----------+---------+\n",
            "|userId|userSessionId|teamLevel|platformType|count_gameclicks|count_hits|count_buyId|avg_price|\n",
            "+------+-------------+---------+------------+----------------+----------+-----------+---------+\n",
            "|   812|         5648|        1|     android|              69|         8|       NULL|     NULL|\n",
            "|  1658|         5649|        1|      iphone|              31|         5|       NULL|     NULL|\n",
            "|  1589|         5650|        1|      iphone|              26|         2|       NULL|     NULL|\n",
            "|  1863|         5651|        1|     android|              35|         4|       NULL|     NULL|\n",
            "|   937|         5652|        1|     android|              39|         0|          1|     1.00|\n",
            "|   342|         5653|        1|     android|              36|         5|       NULL|     NULL|\n",
            "|   849|         5654|        1|      iphone|              40|         5|       NULL|     NULL|\n",
            "|  1277|         5655|        1|     windows|              46|         8|       NULL|     NULL|\n",
            "|  2203|         5656|        1|     android|              68|         6|       NULL|     NULL|\n",
            "|   585|         5657|        1|      iphone|              76|         9|       NULL|     NULL|\n",
            "|  1370|         5658|        1|      iphone|              69|         6|       NULL|     NULL|\n",
            "|  1623|         5659|        1|      iphone|             129|         9|          1|    10.00|\n",
            "|   881|         5660|        1|      iphone|              36|         6|       NULL|     NULL|\n",
            "|    83|         5661|        1|     android|             102|        14|          1|     5.00|\n",
            "|   453|         5662|        1|     android|             102|         7|       NULL|     NULL|\n",
            "|  1966|         5663|        1|      iphone|              63|         8|       NULL|     NULL|\n",
            "|  1073|         5664|        1|     android|             141|        21|       NULL|     NULL|\n",
            "|   121|         5665|        1|     android|              39|         4|          1|     3.00|\n",
            "|   462|         5666|        1|     android|              90|        10|          1|     3.00|\n",
            "|   708|         5667|        1|      iphone|              32|         2|       NULL|     NULL|\n",
            "+------+-------------+---------+------------+----------------+----------+-----------+---------+\n",
            "only showing top 20 rows\n",
            "\n"
          ]
        }
      ]
    },
    {
      "cell_type": "code",
      "execution_count": null,
      "metadata": {
        "id": "Ynr_Jq9M23GP"
      },
      "outputs": [],
      "source": [
        "from pyspark.ml.clustering import KMeans\n",
        "from pyspark.ml.feature import VectorAssembler\n",
        "from pyspark.ml.feature import StandardScaler\n",
        "featuresUsed = ['strength',\n",
        " 'teamLevel',\n",
        " 'isHit',\n",
        " 'price']\n",
        "assembler = VectorAssembler(inputCols=featuresUsed, outputCol=\"features_unscaled\")\n",
        "assembled = assembler.transform(whole_dataset_df)\n",
        "\n",
        "assembled.show()\n",
        "assembled.count()"
      ]
    },
    {
      "cell_type": "code",
      "execution_count": null,
      "metadata": {
        "id": "F1UhXjjc4LLE"
      },
      "outputs": [],
      "source": [
        "\n",
        "\n",
        "scaler = StandardScaler(inputCol=\"features_unscaled\", outputCol=\"features\", withStd=True, withMean=True)\n",
        "scalerModel = scaler.fit(assembled)\n",
        "scaledData = scalerModel.transform(assembled)\n",
        "\n"
      ]
    },
    {
      "cell_type": "code",
      "execution_count": null,
      "metadata": {
        "id": "FWNc9sZB4Mo2"
      },
      "outputs": [],
      "source": [
        "from pyspark.ml.clustering import KMeans\n",
        "from pyspark.ml.evaluation import ClusteringEvaluator\n",
        "silhouette_score=[]\n",
        "evaluator = ClusteringEvaluator(predictionCol='prediction', featuresCol='features', \\\n",
        "                                metricName='silhouette', distanceMeasure='squaredEuclidean')\n",
        "for i in range(2,10):\n",
        "    KMeans_algo=KMeans(featuresCol='features', k=i)\n",
        "    KMeans_fit=KMeans_algo.fit(scaledData)\n",
        "    output=KMeans_fit.transform(scaledData)\n",
        "    score=evaluator.evaluate(output)\n",
        "    silhouette_score.append(score)\n",
        "    print(\"Silhouette Score:\",score)"
      ]
    },
    {
      "cell_type": "code",
      "source": [
        "import matplotlib.pyplot as plt\n",
        "fig, ax = plt.subplots(1,1, figsize =(8,6))\n",
        "ax.plot(range(2,10),silhouette_score)\n",
        "ax.set_xlabel('k')\n",
        "ax.set_ylabel('cost')"
      ],
      "metadata": {
        "id": "vnAzMOLJfoc1"
      },
      "execution_count": null,
      "outputs": []
    },
    {
      "cell_type": "code",
      "source": [
        ""
      ],
      "metadata": {
        "id": "AgqGG2E7fl_9"
      },
      "execution_count": null,
      "outputs": []
    },
    {
      "cell_type": "code",
      "execution_count": null,
      "metadata": {
        "id": "rKq1b7LE4Tmz"
      },
      "outputs": [],
      "source": [
        "clusters = range(2,31)\n",
        "\n",
        "wsseList = elbow(elbowset, clusters)"
      ]
    },
    {
      "cell_type": "code",
      "execution_count": null,
      "metadata": {
        "id": "yGuqv0Yi4WYj"
      },
      "outputs": [],
      "source": [
        "elbow_plot(wsseList, clusters)"
      ]
    },
    {
      "cell_type": "code",
      "execution_count": null,
      "metadata": {
        "id": "0CaBnrQy4a-T"
      },
      "outputs": [],
      "source": [
        "scaledDataFeat = scaledData.select(\"features\")\n",
        "scaledDataFeat.persist()"
      ]
    },
    {
      "cell_type": "code",
      "execution_count": null,
      "metadata": {
        "id": "7xAG_6R_4eYq"
      },
      "outputs": [],
      "source": [
        "kmeans = KMeans(k=12, seed=1)\n",
        "model = kmeans.fit(scaledDataFeat)\n",
        "transformed = model.transform(scaledDataFeat)"
      ]
    },
    {
      "cell_type": "code",
      "execution_count": null,
      "metadata": {
        "id": "zo63pc3v4gyW"
      },
      "outputs": [],
      "source": [
        "centers = model.clusterCenters()\n",
        "centers"
      ]
    },
    {
      "cell_type": "code",
      "execution_count": null,
      "metadata": {
        "id": "NjNzo3qP4j7Y"
      },
      "outputs": [],
      "source": [
        "# Dry Days\n",
        "parallel_plot(P[P['relative_humidity'] < -0.5], P)"
      ]
    },
    {
      "cell_type": "code",
      "source": [
        "####### TIME SERIES PEAK AND TROUF\n",
        "import numpy as np\n",
        "import matplotlib as mpl\n",
        "import matplotlib.pyplot as plt\n",
        "\n",
        "\n",
        "\n",
        "adclicks_df = spark.read.csv(\"/content/flamingo-data/ad-clicks.csv\", header=True, inferSchema=True)\n",
        "\n",
        "df = adclicks_df.withColumn(\"tstamp\",f.date_format(adclicks_df.timestamp,'yyyy-MM-dd') )\\\n",
        ".withColumn(\"hstamp\",f.date_format(adclicks_df.timestamp,'hh:mm:ss') )\\\n",
        ".withColumn(\"month\",f.date_format(adclicks_df.timestamp,'yyyy-MM-dd') )\\\n",
        ".select(\"month\")\\\n",
        ".groupBy(\"month\")\\\n",
        ".count()\\\n",
        ".orderBy(\"count\")\\\n",
        ".toPandas()\\\n",
        "\n",
        "\n",
        "# Get the Peaks and Troughs\n",
        "data = df['count'].values\n",
        "doublediff = np.diff(np.sign(np.diff(data)))\n",
        "print(doublediff)\n",
        "peak_locations = np.where(doublediff == -2)[0] + 1\n",
        "\n",
        "doublediff2 = np.diff(np.sign(np.diff(-1*data)))\n",
        "trough_locations = np.where(doublediff2 == -2)[0] + 1\n",
        "\n",
        "\n",
        "\n",
        "# Draw Plot\n",
        "plt.figure(figsize=(16,10), dpi= 80)\n",
        "plt.plot('month', 'count', data=df, color='tab:blue', label='Air Traffic')\n",
        "plt.scatter(df.month[peak_locations], df.count[peak_locations], marker=mpl.markers.CARETUPBASE, color='tab:green', s=100, label='Peaks')\n",
        "plt.scatter(df.month[trough_locations], df.count[trough_locations], marker=mpl.markers.CARETDOWNBASE, color='tab:red', s=100, label='Troughs')\n",
        "\n",
        "\n",
        "\n",
        "\n",
        "# Annotate\n",
        "for t, p in zip(trough_locations[1::5], peak_locations[::3]):\n",
        "    plt.text(df.month[p], df.count[p]+15, df.month[p], horizontalalignment='center', color='darkgreen')\n",
        "    plt.text(df.month[t], df.count[t]-35, df.month[t], horizontalalignment='center', color='darkred')\n",
        "\n",
        "# Decoration\n",
        "plt.ylim(50,750)\n",
        "xtick_location = df.index.tolist()[::6]\n",
        "xtick_labels = df.month.tolist()[::6]\n",
        "plt.xticks(ticks=xtick_location, labels=xtick_labels, rotation=90, fontsize=12, alpha=.7)\n",
        "plt.title(\"Peak and Troughs of Air Passengers Traffic (1949 - 1969)\", fontsize=22)\n",
        "plt.yticks(fontsize=12, alpha=.7)\n",
        "\n",
        "# Lighten borders\n",
        "plt.gca().spines[\"top\"].set_alpha(.0)\n",
        "plt.gca().spines[\"bottom\"].set_alpha(.3)\n",
        "plt.gca().spines[\"right\"].set_alpha(.0)\n",
        "plt.gca().spines[\"left\"].set_alpha(.3)\n",
        "\n",
        "plt.legend(loc='upper left')\n",
        "plt.grid(axis='y', alpha=.3)\n",
        "plt.show()\n"
      ],
      "metadata": {
        "id": "UoR1ScKzYrCY"
      },
      "execution_count": null,
      "outputs": []
    }
  ],
  "metadata": {
    "colab": {
      "collapsed_sections": [],
      "name": "assessment_bigdata.ipynb",
      "provenance": [],
      "authorship_tag": "ABX9TyMFJldX/6By4XFXgTYLkSVM",
      "include_colab_link": true
    },
    "kernelspec": {
      "display_name": "Python 3",
      "name": "python3"
    },
    "language_info": {
      "name": "python"
    }
  },
  "nbformat": 4,
  "nbformat_minor": 0
}